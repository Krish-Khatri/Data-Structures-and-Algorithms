{
  "nbformat": 4,
  "nbformat_minor": 0,
  "metadata": {
    "celltoolbar": "Tags",
    "kernelspec": {
      "display_name": "Python 3",
      "language": "python",
      "name": "python3"
    },
    "language_info": {
      "codemirror_mode": {
        "name": "ipython",
        "version": 3
      },
      "file_extension": ".py",
      "mimetype": "text/x-python",
      "name": "python",
      "nbconvert_exporter": "python",
      "pygments_lexer": "ipython3",
      "version": "3.6.13"
    },
    "colab": {
      "name": "DWF21-template.ipynb",
      "provenance": [],
      "collapsed_sections": [
        "ka885DZOJEzp"
      ],
      "include_colab_link": true
    }
  },
  "cells": [
    {
      "cell_type": "markdown",
      "metadata": {
        "id": "view-in-github",
        "colab_type": "text"
      },
      "source": [
        "<a href=\"https://colab.research.google.com/github/Krish-Khatri/Data-Structures-and-Algorithms/blob/main/DWF21_template.ipynb\" target=\"_parent\"><img src=\"https://colab.research.google.com/assets/colab-badge.svg\" alt=\"Open In Colab\"/></a>"
      ]
    },
    {
      "cell_type": "markdown",
      "metadata": {
        "id": "DHnX--3oJEy0"
      },
      "source": [
        "# Data Warehouses Design and Use\n",
        "\n",
        "\n",
        "## Goals\n",
        "The goal of this assignment is to gain experience and practice constructing, populating, and querying  a data warehouse. We will continue to use our ice cream food truck for this exercise. \n",
        "\n",
        "You will be further developing your skills in writing declarative SQL. In addition, you will see the impact of grain size on query time and table size.\n",
        "\n",
        "## Your task\n",
        "Your task is to write SQL code, and fill in some values to a few Python cells, as directed in the assignment. Your notebook must run without error. Be sure to test that you can run all of the cells (except the # LOCALDB cell) from a fresh start, without error.\n",
        "\n",
        "## Grading\n",
        "This assignment is worth 50 points.  The number of points assigned to each component is indicated.\n",
        "\n",
        "## Autograding\n",
        "We will use an autograder for first pass grading of this assignment. In order for our autograder to work, we need to connect your solution to a local database. \n",
        "\n",
        "**DO NOT RUN CELLS THAT START WITH THE COMMENT `# LOCALDB` and do not remove those cells.**\n",
        "\n",
        "For cells that contain your answer, replace the `SELECT 1` SQL code with your solution. Do not change the first line of the cell or remove the following cell.\n",
        "\n",
        "We are using an autograder for the first pass grading. For the autograder to work, you need to complete your work in the appropriate cells and name and order the attributes in your results as directed. \n",
        "\n",
        "**It's critical that you use the attribute names and sort order as directed. If attribute name(s) are not specfied, use the name in the source table.**\n",
        "\n",
        "## Academic Honesty\n",
        "The following level of collaboration is allowed on this assignment: \n",
        "\n",
        "You may discuss the assignment with other class members at a high level. What is not allowed is direct examination of anyone else's SQL code (on a computer, email, whiteboard, etc.) or allowing anyone else to see your SQL  code. You may also use (and in fact are encouraged to use) the PostgreSQL reference manual \n",
        "\n",
        "https://www.postgresql.org/docs/10/index.html\n",
        "\n",
        "You may use the search engine of your choice to look up the syntax for PostgreSQL commands, but may not use it to find answers. Remember to cite your sources!\n",
        "\n",
        "\n",
        "## Useful Information\n",
        "The following PostgreSQL functions may be helpful.\n",
        "\n",
        "EXTRACT EXTRACT(<unit> FROM <attribute>). Can be used to extract hour, month, year, day of week, etc. from dates\n",
        "\n",
        ":: Casts the attribute to the left of the :: to the type specified on the right\n",
        "    \n",
        "## What to submit\n",
        "\n",
        "Submit this jupyter notebook containing your table definitions, queries, code, and results. Be sure to provide code to delete any VIEWs and TABLEs other that the start 4 tables.\n",
        "\n"
      ]
    },
    {
      "cell_type": "markdown",
      "metadata": {
        "id": "7dWf4uLCJEzC"
      },
      "source": [
        "## Background\n",
        "The system we have designed for our ice cream food truck is great for recording orders and sales. However, due to its focus on recipes and tickets, queries to determine strategy (e.g. most popular ingredients, etc.) can be complex. Here, you will construct and populate a Star Schema for ingredient.\n",
        "\n"
      ]
    },
    {
      "cell_type": "markdown",
      "metadata": {
        "id": "YBAAn6h1JEzE"
      },
      "source": [
        "## Data \n",
        "\n",
        "This section describes the tables that provide data for this assignment.\n",
        "\n",
        "\n",
        "We leverage the following base tables in this assignment:\n",
        "\n",
        "* truckEvent: Details of the events where the food truck sold ice cream.  Attributes include:\n",
        "\n",
        "    * EventId: Primary key. Unique id of each event\n",
        "    * EventName: Text name for the event\n",
        "    * EventStart: Start time of the event\n",
        "    * EventPlannedEnd: Time the event was expected to end\n",
        "    * EventActualEnd: Time the event actually ended\n",
        "    * EventStatus: Status indicating if the event is planned, in progress,  completed, or cancelled\n",
        "    * TotalDollarSales: Sum of the selling price of all of the products sold during the event\n",
        "    * TotalNumProducts: Number of products sold during the event \n",
        "    * TotalNumTickets: Number of tickets created during the event \n",
        "\n",
        "* ticket: Details of each set of products purchased together during an event\n",
        "\n",
        "    * TicketId: Unique id of each ticket\n",
        "    * EventId: Id of event where the ticket was created\n",
        "    * TicketTime: Time when the ticket was created\n",
        "    * NumProducts; Number of products purchased together on this ticket\n",
        "    * TotalPrice: Sum of selling price of all products purchased together on this ticket\n",
        "\n",
        "* productSold:  Details about each product sold during an event\n",
        "\n",
        "    * productSoldId: Unique id of each product sold\n",
        "    * ProductCode: Code identifying the product that was sold\n",
        "    * TicketId: Id of the ticket in which this product was sold\n",
        "    * Price: Selling price of the product\n",
        "\n",
        "* saleDetail: Detail about the ingredient(s) used in each product sold\n",
        "    * SaleDetailId: Unique id of each detail\n",
        "    * ProductSoldId: The id of the productSold which this saleDetail is part of\n",
        "    * IngName: Name of the ingredient\n",
        "    * Qty: Quantity of the ingredient\n",
        "    * Unit: Unit of measure of the ingredient\n",
        "    * Detail: Detail / choice made for the ingredient (e.g. **vanilla** or **tall**)\n",
        "\n"
      ]
    },
    {
      "cell_type": "code",
      "metadata": {
        "tags": [
          "localdb"
        ],
        "id": "6Vqu9RFaJEzG"
      },
      "source": [
        "# LOCALDB\n",
        "# connect to grader database\n",
        "import psycopg2\n",
        "from configparser import ConfigParser\n",
        "\n",
        "def config(filename='.pg_service.conf', section='postgresql'):\n",
        "    # create a parser\n",
        "    parser = ConfigParser()\n",
        "    # read config file\n",
        "    parser.read(filename)\n",
        "\n",
        "    # get section, default to postgresql\n",
        "    db = {}\n",
        "    if parser.has_section(section):\n",
        "        params = parser.items(section)\n",
        "        for param in params:\n",
        "            db[param[0]] = param[1]\n",
        "    else:\n",
        "        raise Exception('Section {0} not found in the {1} file'.format(section, filename))\n",
        "\n",
        "    return db\n",
        "\n",
        "params = config()\n",
        "# build the connection string\n",
        "def make_conn_str(params):\n",
        "\n",
        "    return f\"postgresql+psycopg2://{params['user']}:{params['password']}@{params['host']}:{params['port']}/{params['dbname']}\"\n",
        "        \n",
        "# connect to the database\n",
        "conn_str = make_conn_str(params)\n",
        "%load_ext sql\n",
        "%sql $conn_str \n",
        "%config SqlMagic.displaylimit=100"
      ],
      "execution_count": null,
      "outputs": []
    },
    {
      "cell_type": "markdown",
      "metadata": {
        "id": "fr3fP7n5JEzJ"
      },
      "source": [
        "\n",
        "## Initialization\n",
        "\n",
        "The next cell needs to be run each time you start up Google Colab."
      ]
    },
    {
      "cell_type": "code",
      "metadata": {
        "tags": [
          "colab"
        ],
        "colab": {
          "base_uri": "https://localhost:8080/"
        },
        "id": "4LQpyp5BJEzK",
        "outputId": "56f9f708-3c9f-44cc-93a7-12dc4f2917c6"
      },
      "source": [
        "# colab install\n",
        "!pip install --upgrade pip\n",
        "!pip install SQLAlchemy==1.3.23\n",
        "!pip install psycopg2-binary\n",
        "!apt install postgresql postgresql-contrib &>log\n",
        "!service postgresql start\n",
        "!sudo -u postgres psql -c \"CREATE USER root WITH SUPERUSER\"\n",
        "# set connection\n",
        "%load_ext sql\n",
        "%config SqlMagic.autolimit=100\n",
        "# Limit queries to 100 results. Increase this value if needed, but recognize that your notebook will increase in size as well. %config SqlMagic.displaylimit=100\n",
        "%sql postgresql+psycopg2://@/postgres\n",
        "!sudo -u postgres createdb ricedb"
      ],
      "execution_count": 1,
      "outputs": [
        {
          "output_type": "stream",
          "name": "stdout",
          "text": [
            "Requirement already satisfied: pip in /usr/local/lib/python3.7/dist-packages (21.1.3)\n",
            "Collecting pip\n",
            "  Downloading pip-21.3.1-py3-none-any.whl (1.7 MB)\n",
            "\u001b[K     |████████████████████████████████| 1.7 MB 5.5 MB/s \n",
            "\u001b[?25hInstalling collected packages: pip\n",
            "  Attempting uninstall: pip\n",
            "    Found existing installation: pip 21.1.3\n",
            "    Uninstalling pip-21.1.3:\n",
            "      Successfully uninstalled pip-21.1.3\n",
            "Successfully installed pip-21.3.1\n",
            "Collecting SQLAlchemy==1.3.23\n",
            "  Downloading SQLAlchemy-1.3.23-cp37-cp37m-manylinux2010_x86_64.whl (1.3 MB)\n",
            "     |████████████████████████████████| 1.3 MB 5.5 MB/s            \n",
            "\u001b[?25hInstalling collected packages: SQLAlchemy\n",
            "  Attempting uninstall: SQLAlchemy\n",
            "    Found existing installation: SQLAlchemy 1.4.25\n",
            "    Uninstalling SQLAlchemy-1.4.25:\n",
            "      Successfully uninstalled SQLAlchemy-1.4.25\n",
            "Successfully installed SQLAlchemy-1.3.23\n",
            "\u001b[33mWARNING: Running pip as the 'root' user can result in broken permissions and conflicting behaviour with the system package manager. It is recommended to use a virtual environment instead: https://pip.pypa.io/warnings/venv\u001b[0m\n",
            "Collecting psycopg2-binary\n",
            "  Downloading psycopg2_binary-2.9.1-cp37-cp37m-manylinux_2_17_x86_64.manylinux2014_x86_64.whl (3.4 MB)\n",
            "     |████████████████████████████████| 3.4 MB 5.0 MB/s            \n",
            "\u001b[?25hInstalling collected packages: psycopg2-binary\n",
            "Successfully installed psycopg2-binary-2.9.1\n",
            "\u001b[33mWARNING: Running pip as the 'root' user can result in broken permissions and conflicting behaviour with the system package manager. It is recommended to use a virtual environment instead: https://pip.pypa.io/warnings/venv\u001b[0m\n",
            " * Starting PostgreSQL 10 database server\n",
            "   ...done.\n",
            "CREATE ROLE\n"
          ]
        }
      ]
    },
    {
      "cell_type": "markdown",
      "metadata": {
        "id": "tM29XkjgJEzL"
      },
      "source": [
        "\n",
        "The following data files are provided for this assignment:\n",
        "\n",
        "* productsold.csv\n",
        "* saledetail.csv\n",
        "* ticket.csv\n",
        "* truckevent.csv\n",
        "\n",
        "Create these tables:"
      ]
    },
    {
      "cell_type": "code",
      "metadata": {
        "tags": [
          "colab"
        ],
        "colab": {
          "base_uri": "https://localhost:8080/"
        },
        "id": "1BaTCvTHJEzN",
        "outputId": "12b27386-03cf-4533-fd16-4ae78df83a35"
      },
      "source": [
        "%%sql\n",
        "DROP TABLE IF EXISTS productsold CASCADE;\n",
        "CREATE TABLE IF NOT EXISTS productsold\n",
        "(\n",
        "    productsoldid integer NOT NULL ,\n",
        "    productcode CHAR(3) NOT NULL,\n",
        "    ticketid integer NOT NULL,\n",
        "    price numeric(10,2) NOT NULL,\n",
        "    PRIMARY KEY (productsoldid)\n",
        ");\n",
        "\n",
        "DROP TABLE IF EXISTS salerecord CASCADE;\n",
        "CREATE TABLE IF NOT EXISTS salerecord\n",
        "(\n",
        "    salerecordid integer NOT NULL,\n",
        "    productsoldid integer,\n",
        "    ingname character varying(50)  NOT NULL,\n",
        "    qty numeric(10,2) NOT NULL,\n",
        "    unit character varying(20)  NOT NULL,\n",
        "    detail character varying(50),\n",
        "    PRIMARY KEY (salerecordid)\n",
        ");\n",
        "\n",
        "DROP TABLE IF EXISTS ticket CASCADE;\n",
        "CREATE TABLE IF NOT EXISTS ticket\n",
        "(\n",
        "    ticketid integer NOT NULL,\n",
        "    eventid integer NOT NULL,\n",
        "    tickettime timestamp without time zone NOT NULL,\n",
        "    numproducts integer NOT NULL DEFAULT 0,\n",
        "    totalprice numeric(5,2) NOT NULL DEFAULT 0,\n",
        "    PRIMARY KEY (ticketid)\n",
        ");\n",
        "\n",
        "DROP TABLE IF EXISTS truckevent CASCADE;\n",
        "CREATE TABLE IF NOT EXISTS truckevent\n",
        "(\n",
        "    eventid integer NOT NULL,\n",
        "    eventname character varying(100)  NOT NULL,\n",
        "    eventstart timestamp without time zone,\n",
        "    eventplannedend timestamp without time zone,\n",
        "    eventactualend timestamp without time zone,\n",
        "    eventstatus character varying(30)  NOT NULL,\n",
        "    menuname character varying(30),\n",
        "    totaldollarsales numeric(10,2),\n",
        "    totalnumproducts integer,\n",
        "    totalnumtickets integer,\n",
        "    PRIMARY KEY (eventid)\n",
        ");"
      ],
      "execution_count": 2,
      "outputs": [
        {
          "output_type": "stream",
          "name": "stdout",
          "text": [
            " * postgresql+psycopg2://@/postgres\n",
            "Done.\n",
            "Done.\n",
            "Done.\n",
            "Done.\n",
            "Done.\n",
            "Done.\n",
            "Done.\n",
            "Done.\n"
          ]
        },
        {
          "output_type": "execute_result",
          "data": {
            "text/plain": [
              "[]"
            ]
          },
          "metadata": {},
          "execution_count": 2
        }
      ]
    },
    {
      "cell_type": "markdown",
      "metadata": {
        "id": "PGidIm6KJEzQ"
      },
      "source": [
        "## Load the data"
      ]
    },
    {
      "cell_type": "code",
      "metadata": {
        "tags": [
          "colab"
        ],
        "colab": {
          "base_uri": "https://localhost:8080/"
        },
        "id": "jHBIsH1GJEzS",
        "outputId": "98296b99-963a-4fc7-eb1b-a338e47ed5c7"
      },
      "source": [
        "%%sql\n",
        "COPY productsold(productsoldid,productcode,ticketid,price) FROM '/content/productsold.csv' CSV HEADER;\n",
        "COPY ticket FROM  '/content/ticket.csv'  CSV  HEADER; \n",
        "COPY salerecord FROM  '/content/salerecord.csv'  CSV HEADER; \n",
        "COPY truckevent FROM  '/content/truckevent.csv'  CSV HEADER; "
      ],
      "execution_count": 3,
      "outputs": [
        {
          "output_type": "stream",
          "name": "stdout",
          "text": [
            " * postgresql+psycopg2://@/postgres\n",
            "14322 rows affected.\n",
            "3398 rows affected.\n",
            "73096 rows affected.\n",
            "62 rows affected.\n"
          ]
        },
        {
          "output_type": "execute_result",
          "data": {
            "text/plain": [
              "[]"
            ]
          },
          "metadata": {},
          "execution_count": 3
        }
      ]
    },
    {
      "cell_type": "code",
      "metadata": {
        "tags": [
          "colab"
        ],
        "colab": {
          "base_uri": "https://localhost:8080/",
          "height": 95
        },
        "id": "-AWQwmfqJEzT",
        "outputId": "2d8ca584-f848-44d9-82c7-16f55ff7f83b"
      },
      "source": [
        "%%sql\n",
        "-- there should be 14322 records \n",
        "SELECT COUNT(1) \n",
        "FROM productsold;"
      ],
      "execution_count": 4,
      "outputs": [
        {
          "output_type": "stream",
          "name": "stdout",
          "text": [
            " * postgresql+psycopg2://@/postgres\n",
            "1 rows affected.\n"
          ]
        },
        {
          "output_type": "execute_result",
          "data": {
            "text/html": [
              "<table>\n",
              "    <thead>\n",
              "        <tr>\n",
              "            <th>count</th>\n",
              "        </tr>\n",
              "    </thead>\n",
              "    <tbody>\n",
              "        <tr>\n",
              "            <td>14322</td>\n",
              "        </tr>\n",
              "    </tbody>\n",
              "</table>"
            ],
            "text/plain": [
              "[(14322,)]"
            ]
          },
          "metadata": {},
          "execution_count": 4
        }
      ]
    },
    {
      "cell_type": "code",
      "metadata": {
        "tags": [
          "colab"
        ],
        "colab": {
          "base_uri": "https://localhost:8080/",
          "height": 95
        },
        "id": "DfPxFeC5JEzT",
        "outputId": "2565103b-6557-4f4e-d94d-8fea0404aa25"
      },
      "source": [
        "%%sql\n",
        "-- there should be 3398\n",
        "SELECT COUNT(1) \n",
        "FROM ticket;"
      ],
      "execution_count": 5,
      "outputs": [
        {
          "output_type": "stream",
          "name": "stdout",
          "text": [
            " * postgresql+psycopg2://@/postgres\n",
            "1 rows affected.\n"
          ]
        },
        {
          "output_type": "execute_result",
          "data": {
            "text/html": [
              "<table>\n",
              "    <thead>\n",
              "        <tr>\n",
              "            <th>count</th>\n",
              "        </tr>\n",
              "    </thead>\n",
              "    <tbody>\n",
              "        <tr>\n",
              "            <td>3398</td>\n",
              "        </tr>\n",
              "    </tbody>\n",
              "</table>"
            ],
            "text/plain": [
              "[(3398,)]"
            ]
          },
          "metadata": {},
          "execution_count": 5
        }
      ]
    },
    {
      "cell_type": "code",
      "metadata": {
        "tags": [
          "colab"
        ],
        "colab": {
          "base_uri": "https://localhost:8080/",
          "height": 95
        },
        "id": "RyE1_QXfJEzV",
        "outputId": "971a7350-ebbe-4c8f-d27f-0246abc349d5"
      },
      "source": [
        "%%sql \n",
        "-- 73096\n",
        "SELECT COUNT(1) \n",
        "FROM salerecord;"
      ],
      "execution_count": 6,
      "outputs": [
        {
          "output_type": "stream",
          "name": "stdout",
          "text": [
            " * postgresql+psycopg2://@/postgres\n",
            "1 rows affected.\n"
          ]
        },
        {
          "output_type": "execute_result",
          "data": {
            "text/html": [
              "<table>\n",
              "    <thead>\n",
              "        <tr>\n",
              "            <th>count</th>\n",
              "        </tr>\n",
              "    </thead>\n",
              "    <tbody>\n",
              "        <tr>\n",
              "            <td>73096</td>\n",
              "        </tr>\n",
              "    </tbody>\n",
              "</table>"
            ],
            "text/plain": [
              "[(73096,)]"
            ]
          },
          "metadata": {},
          "execution_count": 6
        }
      ]
    },
    {
      "cell_type": "code",
      "metadata": {
        "tags": [
          "colab"
        ],
        "colab": {
          "base_uri": "https://localhost:8080/",
          "height": 95
        },
        "id": "JBn2wdqEJEzW",
        "outputId": "c68d0f57-c82d-45f1-ae93-96eee8655a2e"
      },
      "source": [
        "%%sql \n",
        "-- 62\n",
        "SELECT COUNT(1) \n",
        "FROM truckevent;"
      ],
      "execution_count": 7,
      "outputs": [
        {
          "output_type": "stream",
          "name": "stdout",
          "text": [
            " * postgresql+psycopg2://@/postgres\n",
            "1 rows affected.\n"
          ]
        },
        {
          "output_type": "execute_result",
          "data": {
            "text/html": [
              "<table>\n",
              "    <thead>\n",
              "        <tr>\n",
              "            <th>count</th>\n",
              "        </tr>\n",
              "    </thead>\n",
              "    <tbody>\n",
              "        <tr>\n",
              "            <td>62</td>\n",
              "        </tr>\n",
              "    </tbody>\n",
              "</table>"
            ],
            "text/plain": [
              "[(62,)]"
            ]
          },
          "metadata": {},
          "execution_count": 7
        }
      ]
    },
    {
      "cell_type": "markdown",
      "metadata": {
        "id": "31hbARduJEzW"
      },
      "source": [
        "## Data Warehouse Structure\n",
        "\n",
        "In order to write the queries specified below, you will need to construct a star schema for **ingredient used** (salerecord).\n",
        "\n",
        "While many star schema are possible, we constain our data warehouse to a fixed set of fact and dimension tables, as follows.\n",
        "\n",
        "Define the following fact and dimension tables. **Use the exact table names provided**. What you call your attributes within each table is up to you. What data you need in each table should be sufficient to answer all of the questions asked.\n",
        "\n",
        "Assign surrogate primary keys and appropriate foreign keys for each table.  When creating your tables, keep in mind that data warehouses trade-off storage space for computation. That is, it is better to precompute facts you might need and store the result in a fact table versus computing them on the fly. Be sure to use good data warehouse design: Don't snowflake your dimensions, denormalize where appropriate, etc. \n",
        "\n",
        "1. Create (1 point each) and populate from the source data (1 point each) the following tables. \n",
        "\n",
        "    1. DateDim: This dimension table should contain a unique, system assigned numeric identifier, as well as attributes that separate out the day, day of the week, month, and year.\n",
        "\n",
        "    1. EventDim: This dimension table is a dimension table based on the truckevent table.  Assign a unique, system identifier as the primary key.\n",
        "\n",
        "    1. TicketDim: This dimension table  a dimension table based on the ticket table.  Assign a unique, system identifier as the primary key.\n",
        "\n",
        "    1. ProductSoldDim:  A dimension table based on the productsold table. Assign a unique, system identifier as the primary key.\n",
        "\n",
        "\n",
        "1. Create (5 points) and populate from the source data (5 points) the following table.\n",
        "\n",
        "    1. IngUsedFact:  A fact table based on the saleRecord table. The attributes should include foreign key references to the aforementioned dimension tables as well as any additional attributes needed to construct the additional fact tables specified and answer the queries specified below.  You should also include a degenerate dimension that should be populated with the saleRecord id that this IngUsedFact record is based on.\n",
        "\n",
        "\n",
        "1. Create (1 point each) and populate from the source data (1 point each) the following tables. \n",
        "\n",
        "    1. IngUsedByDayFact: This fact table should aggregate the contents of IngUsedFact by the date the ingredient was used. The table should have appropriate primary and foreign keys.\n",
        "\n",
        "    1. IngUsedByMonthFact: This table should aggregate the IngUsedFact table by month \\& year and should have appropriate primary and foreign keys.\n",
        "\n",
        "\n",
        "Keep in mind that when you populate your the `IngUsedFact` table, you need to reference the appropriate records in the dimension tables."
      ]
    },
    {
      "cell_type": "code",
      "metadata": {
        "colab": {
          "base_uri": "https://localhost:8080/"
        },
        "id": "OhaUJRkXJEzX",
        "outputId": "b53d0179-6795-476f-a40f-d53929df753e"
      },
      "source": [
        "%%sql\n",
        "SELECT 1;\n",
        "-- Create the dimension and fact tables\n",
        "DROP TABLE IF EXISTS DateDim CASCADE;\n",
        "CREATE TABLE IF NOT EXISTS DateDim \n",
        "  (id SERIAL PRIMARY KEY,\n",
        "  day integer,\n",
        "  dayofweek integer,\n",
        "  month integer,\n",
        "  year integer\n",
        "  );\n",
        "\n",
        "DROP TABLE IF EXISTS EventDim CASCADE;\n",
        "CREATE TABLE IF NOT EXISTS EventDim \n",
        "  (id SERIAL PRIMARY KEY,\n",
        "    eventid integer NOT NULL,\n",
        "    eventname character varying(100)  NOT NULL,\n",
        "    eventstart timestamp without time zone,\n",
        "    eventplannedend timestamp without time zone,\n",
        "    eventactualend timestamp without time zone,\n",
        "    eventstatus character varying(30)  NOT NULL,\n",
        "    menuname character varying(30),\n",
        "    totaldollarsales numeric(10,2),\n",
        "    totalnumproducts integer,\n",
        "    totalnumtickets integer\n",
        "  );\n",
        "\n",
        "DROP TABLE IF EXISTS TicketDim CASCADE;\n",
        "CREATE TABLE IF NOT EXISTS TicketDim \n",
        "  (id SERIAL PRIMARY KEY,\n",
        "    ticketid integer NOT NULL,\n",
        "    tickettime timestamp without time zone NOT NULL,\n",
        "    numproducts integer NOT NULL DEFAULT 0,\n",
        "    totalprice numeric(5,2) NOT NULL DEFAULT 0\n",
        "  );\n",
        "\n",
        "DROP TABLE IF EXISTS ProductSoldDim CASCADE;\n",
        "CREATE TABLE IF NOT EXISTS ProductSoldDim \n",
        "  ( id SERIAL PRIMARY KEY,\n",
        "    productsoldid integer NOT NULL,\n",
        "    productcode CHAR(3) NOT NULL,\n",
        "    price numeric(10,2) NOT NULL\n",
        "  );\n",
        "\n",
        "DROP TABLE IF EXISTS IngUsedFact CASCADE;\n",
        "CREATE TABLE IF NOT EXISTS IngUsedFact \n",
        "  (id SERIAL PRIMARY KEY,\n",
        "    ingname character varying(50)  NOT NULL,\n",
        "    qty numeric(10,2) NOT NULL,\n",
        "    unit character varying(20)  NOT NULL,\n",
        "    detail character varying(50),\n",
        "    productsold integer,\n",
        "    date integer,\n",
        "    event integer,\n",
        "    ticket integer,\n",
        "    salerecordid integer NOT NULL,\n",
        "    CONSTRAINT ingUsedprodsoldfk FOREIGN KEY(productsold) references ProductSoldDim(id),\n",
        "    CONSTRAINT ingUseddatefk FOREIGN KEY(date) references DateDim(id),\n",
        "    CONSTRAINT ingUsedeventfk FOREIGN KEY(event) references EventDim(id),\n",
        "    CONSTRAINT ingUsedticketfk FOREIGN KEY(ticket) references TicketDim(id),\n",
        "    CONSTRAINT ingUsedsaetrecordddfk FOREIGN KEY(salerecordid) references saleRecord(salerecordid)\n",
        "  );\n",
        "\n",
        "DROP TABLE IF EXISTS IngUsedByDayFact CASCADE;\n",
        "CREATE TABLE IF NOT EXISTS IngUsedByDayFact \n",
        "  ( id SERIAL PRIMARY KEY,\n",
        "    day integer NOT NULL,\n",
        "    month integer NOT NULL,\n",
        "    year integer NOT NULL,\n",
        "    ingname character varying(50)  NOT NULL,\n",
        "    unit character varying(20)  NOT NULL,\n",
        "    detail character varying(50),\n",
        "    qty numeric(10,2) NOT NULL\n",
        "  );\n",
        "\n",
        "DROP TABLE IF EXISTS IngUsedByMonthFact CASCADE;\n",
        "CREATE TABLE IF NOT EXISTS IngUsedByMonthFact \n",
        "  (\n",
        "    id SERIAL PRIMARY KEY,\t\n",
        "    month integer NOT NULL,\n",
        "    year integer NOT NULL,\n",
        "    ingname character varying(50)  NOT NULL,\n",
        "    unit character varying(20)  NOT NULL,\n",
        "    detail character varying(50),\n",
        "    qty numeric(10,2) NOT NULL\n",
        "  );  \n"
      ],
      "execution_count": 29,
      "outputs": [
        {
          "output_type": "stream",
          "name": "stdout",
          "text": [
            " * postgresql+psycopg2://@/postgres\n",
            "1 rows affected.\n",
            "Done.\n",
            "Done.\n",
            "Done.\n",
            "Done.\n",
            "Done.\n",
            "Done.\n",
            "Done.\n",
            "Done.\n",
            "Done.\n",
            "Done.\n",
            "Done.\n",
            "Done.\n",
            "Done.\n",
            "Done.\n"
          ]
        },
        {
          "output_type": "execute_result",
          "data": {
            "text/plain": [
              "[]"
            ]
          },
          "metadata": {},
          "execution_count": 29
        }
      ]
    },
    {
      "cell_type": "code",
      "metadata": {
        "colab": {
          "base_uri": "https://localhost:8080/"
        },
        "id": "fHWep3eiJEzY",
        "outputId": "9c289e99-404a-4184-94ed-7210c3c4c7fa"
      },
      "source": [
        "%%sql\n",
        "-- populate dimension tables\n",
        "INSERT INTO DateDim \n",
        "(day, dayofweek, month, year) \n",
        "\n",
        "(\n",
        "  SELECT temp.day, temp.dow, temp.month, temp.year\n",
        "    FROM \n",
        "    (\n",
        "      SELECT EXTRACT(DAY FROM tickettime) as day, EXTRACT(DOW FROM tickettime) as dow,\n",
        "      EXTRACT(MONTH FROM tickettime) as month, EXTRACT(YEAR FROM tickettime) as year\n",
        "      FROM ticket \n",
        "      GROUP BY tickettime\n",
        "    ) temp\n",
        "    GROUP BY temp.day, temp.dow, temp.month, temp.year\n",
        ");\n",
        "\n",
        "INSERT INTO EventDim\n",
        "(eventid, eventname, eventstart, eventplannedend, eventactualend, eventstatus, menuname, totaldollarsales, totalnumproducts, totalnumtickets)\n",
        "(\n",
        "  SELECT temp.eventid, temp.eventname, temp.eventstart, temp.eventplannedend, temp.eventactualend, temp.eventstatus, temp.menuname, temp.totaldollarsales, temp.totalnumproducts, temp.totalnumtickets\n",
        "  FROM truckevent as temp\n",
        ");\n",
        "\n",
        "INSERT INTO TicketDim \n",
        "(tickettime, numproducts, totalprice, ticketid)\n",
        "(\n",
        "  SELECT tickettime, numproducts, totalprice, ticketid\n",
        "  FROM ticket\n",
        ");\n",
        "\n",
        "INSERT INTO ProductSoldDim \n",
        "(productcode, price, productsoldid)\n",
        "(\n",
        "  SELECT productcode, price, productsoldid\n",
        "  FROM productsold\n",
        ");\n",
        "\n",
        "\n"
      ],
      "execution_count": 30,
      "outputs": [
        {
          "output_type": "stream",
          "name": "stdout",
          "text": [
            " * postgresql+psycopg2://@/postgres\n",
            "67 rows affected.\n",
            "62 rows affected.\n",
            "3398 rows affected.\n",
            "14322 rows affected.\n"
          ]
        },
        {
          "output_type": "execute_result",
          "data": {
            "text/plain": [
              "[]"
            ]
          },
          "metadata": {},
          "execution_count": 30
        }
      ]
    },
    {
      "cell_type": "code",
      "metadata": {
        "colab": {
          "base_uri": "https://localhost:8080/"
        },
        "id": "mYd_DXDCJEzZ",
        "outputId": "0d8eb58e-c846-4f13-c1b4-d19396cdf208"
      },
      "source": [
        "%%sql\n",
        "-- populate fact tables\n",
        "INSERT INTO IngUsedFact\n",
        "(ingname, qty, unit, detail, productsold, date, event, ticket, salerecordid)\n",
        "(\n",
        "  SELECT sr.ingname, sr.qty, sr.unit, sr.detail, psd.id, dd.id, ed.id, td.id, sr.salerecordid \n",
        "  FROM saleRecord sr \n",
        "    JOIN productsold ps\n",
        "      ON sr.productsoldid = ps.productsoldid \n",
        "    JOIN ticket t \n",
        "      ON t.ticketid = ps.ticketid \n",
        "    JOIN truckevent te \n",
        "      ON te.eventid = t.eventid\n",
        "    JOIN DateDim dd\n",
        "      ON dd.day = EXTRACT(DAY FROM t.tickettime) AND dd.dayofweek = EXTRACT(DOW FROM t.tickettime) AND \n",
        "      dd. month = EXTRACT(MONTH FROM t.tickettime) AND dd.year = EXTRACT(YEAR FROM t.tickettime) \n",
        "    JOIN ProductSoldDim psd \n",
        "      ON psd.productsoldid = ps.productsoldid \n",
        "    JOIN TicketDim td \n",
        "      ON td.ticketid = t.ticketid \n",
        "    JOIN EventDim ed \n",
        "      ON ed.eventid = t.eventid\n",
        ");\n",
        "\n",
        "INSERT INTO IngUsedByDayFact\n",
        "(day, month, year, ingname, qty, unit, detail)\n",
        "(\n",
        "  SELECT dd.day, dd.month, dd.year, iuf.ingname, sum(iuf.qty), iuf.unit, iuf.detail \n",
        "  FROM IngUsedFact iuf\n",
        "    JOIN DateDim dd\n",
        "      ON dd.id = iuf.date \n",
        "  GROUP BY dd.day, dd.month, dd.year, iuf.ingname, iuf.unit, iuf.detail \n",
        ");\n",
        "\n",
        "\n",
        "INSERT INTO IngUsedByMonthFact\n",
        "(month, year, ingname, qty, unit, detail)\n",
        "(\n",
        "  SELECT dd.month, dd.year, iuf.ingname, sum(iuf.qty), iuf.unit, iuf.detail \n",
        "  FROM IngUsedFact iuf\n",
        "    JOIN DateDim dd\n",
        "      ON dd.id = iuf.date \n",
        "  GROUP BY dd.month, dd.year, iuf.ingname, iuf.unit, iuf.detail \n",
        ");\n"
      ],
      "execution_count": 31,
      "outputs": [
        {
          "output_type": "stream",
          "name": "stdout",
          "text": [
            " * postgresql+psycopg2://@/postgres\n",
            "73096 rows affected.\n",
            "3651 rows affected.\n",
            "866 rows affected.\n"
          ]
        },
        {
          "output_type": "execute_result",
          "data": {
            "text/plain": [
              "[]"
            ]
          },
          "metadata": {},
          "execution_count": 31
        }
      ]
    },
    {
      "cell_type": "markdown",
      "metadata": {
        "id": "bTh8Id25JEzZ"
      },
      "source": [
        "## Queries\n",
        "\n",
        "Your data warehouse should be able to answer the following questions. The star schema structure described above should enable you to answer these questions.\n",
        "\n"
      ]
    },
    {
      "cell_type": "markdown",
      "metadata": {
        "id": "SlQjOopXJEza"
      },
      "source": [
        "1. (3 points) How big are your `IngUsedFact`, `IngUsedFactByDay`, and `IngUsedFactByMonth` tables? Provide the row count.\n",
        "\n",
        " `IngUsedFact`"
      ]
    },
    {
      "cell_type": "code",
      "metadata": {
        "colab": {
          "base_uri": "https://localhost:8080/"
        },
        "id": "D64Hc4nKJEza",
        "outputId": "01075ed7-dc8b-4477-9bd1-8f3fa5ec22e7"
      },
      "source": [
        "%%sql py_var_IngUsedFact_num <<\n",
        "SElECT COUNT(1) FROM IngUsedFact;\n",
        "--IngUsedFact num records\n"
      ],
      "execution_count": 32,
      "outputs": [
        {
          "output_type": "stream",
          "name": "stdout",
          "text": [
            " * postgresql+psycopg2://@/postgres\n",
            "1 rows affected.\n",
            "Returning data to local variable py_var_IngUsedFact_num\n"
          ]
        }
      ]
    },
    {
      "cell_type": "code",
      "metadata": {
        "colab": {
          "base_uri": "https://localhost:8080/",
          "height": 80
        },
        "id": "PkCrUGVKJEzb",
        "outputId": "68c2b488-bb94-41bd-d821-46b6e2c24e34"
      },
      "source": [
        "# do not modify or delete this cell\n",
        "df_q01a = py_var_IngUsedFact_num.DataFrame() # Save the result of this task for grading purposes\n",
        "df_q01a"
      ],
      "execution_count": 33,
      "outputs": [
        {
          "output_type": "execute_result",
          "data": {
            "text/html": [
              "<div>\n",
              "<style scoped>\n",
              "    .dataframe tbody tr th:only-of-type {\n",
              "        vertical-align: middle;\n",
              "    }\n",
              "\n",
              "    .dataframe tbody tr th {\n",
              "        vertical-align: top;\n",
              "    }\n",
              "\n",
              "    .dataframe thead th {\n",
              "        text-align: right;\n",
              "    }\n",
              "</style>\n",
              "<table border=\"1\" class=\"dataframe\">\n",
              "  <thead>\n",
              "    <tr style=\"text-align: right;\">\n",
              "      <th></th>\n",
              "      <th>count</th>\n",
              "    </tr>\n",
              "  </thead>\n",
              "  <tbody>\n",
              "    <tr>\n",
              "      <th>0</th>\n",
              "      <td>73096</td>\n",
              "    </tr>\n",
              "  </tbody>\n",
              "</table>\n",
              "</div>"
            ],
            "text/plain": [
              "   count\n",
              "0  73096"
            ]
          },
          "metadata": {},
          "execution_count": 33
        }
      ]
    },
    {
      "cell_type": "markdown",
      "metadata": {
        "id": "qrlRsRRpJEzc"
      },
      "source": [
        "`IngUsedFactByDay`"
      ]
    },
    {
      "cell_type": "code",
      "metadata": {
        "colab": {
          "base_uri": "https://localhost:8080/"
        },
        "id": "C6d68tixJEzc",
        "outputId": "333af6e9-dc6d-418e-f8c9-18929e24ee51"
      },
      "source": [
        "%%sql py_var_IngUsedByDayFact_num <<\n",
        "SElECT COUNT(1) FROM IngUsedByDayFact;\n",
        "--IngUsedByDayFact num records\n"
      ],
      "execution_count": 34,
      "outputs": [
        {
          "output_type": "stream",
          "name": "stdout",
          "text": [
            " * postgresql+psycopg2://@/postgres\n",
            "1 rows affected.\n",
            "Returning data to local variable py_var_IngUsedByDayFact_num\n"
          ]
        }
      ]
    },
    {
      "cell_type": "code",
      "metadata": {
        "colab": {
          "base_uri": "https://localhost:8080/",
          "height": 80
        },
        "id": "X8ZAd5TfJEzd",
        "outputId": "44695f30-dab0-4c18-8c75-8fc4cd0a8a7a"
      },
      "source": [
        "# do not modify or delete this cell\n",
        "df_q01b = py_var_IngUsedByDayFact_num.DataFrame() # Save the result of this task for grading purposes\n",
        "df_q01b"
      ],
      "execution_count": 35,
      "outputs": [
        {
          "output_type": "execute_result",
          "data": {
            "text/html": [
              "<div>\n",
              "<style scoped>\n",
              "    .dataframe tbody tr th:only-of-type {\n",
              "        vertical-align: middle;\n",
              "    }\n",
              "\n",
              "    .dataframe tbody tr th {\n",
              "        vertical-align: top;\n",
              "    }\n",
              "\n",
              "    .dataframe thead th {\n",
              "        text-align: right;\n",
              "    }\n",
              "</style>\n",
              "<table border=\"1\" class=\"dataframe\">\n",
              "  <thead>\n",
              "    <tr style=\"text-align: right;\">\n",
              "      <th></th>\n",
              "      <th>count</th>\n",
              "    </tr>\n",
              "  </thead>\n",
              "  <tbody>\n",
              "    <tr>\n",
              "      <th>0</th>\n",
              "      <td>3651</td>\n",
              "    </tr>\n",
              "  </tbody>\n",
              "</table>\n",
              "</div>"
            ],
            "text/plain": [
              "   count\n",
              "0   3651"
            ]
          },
          "metadata": {},
          "execution_count": 35
        }
      ]
    },
    {
      "cell_type": "markdown",
      "metadata": {
        "id": "Shk3Ms0XJEzd"
      },
      "source": [
        "`IngUsedFactByMonth` "
      ]
    },
    {
      "cell_type": "code",
      "metadata": {
        "colab": {
          "base_uri": "https://localhost:8080/"
        },
        "id": "byuAxltTJEzd",
        "outputId": "dd3eaf7f-25d3-491b-b24e-87ffb737aeb7"
      },
      "source": [
        "%%sql py_var_IngUsedByMonthFact_num <<\n",
        "SELECT COUNT(1) FROM IngUsedByMonthFact;\n",
        "--IngUsedByMonthFact num records\n"
      ],
      "execution_count": 36,
      "outputs": [
        {
          "output_type": "stream",
          "name": "stdout",
          "text": [
            " * postgresql+psycopg2://@/postgres\n",
            "1 rows affected.\n",
            "Returning data to local variable py_var_IngUsedByMonthFact_num\n"
          ]
        }
      ]
    },
    {
      "cell_type": "code",
      "metadata": {
        "colab": {
          "base_uri": "https://localhost:8080/",
          "height": 80
        },
        "id": "hE1C6jYYJEzd",
        "outputId": "d74d7dd5-2eab-41d3-aa7b-5ee496abea6c"
      },
      "source": [
        "# do not modify or delete this cell\n",
        "df_q01c = py_var_IngUsedByMonthFact_num.DataFrame() # Save the result of this task for grading purposes\n",
        "df_q01c"
      ],
      "execution_count": 37,
      "outputs": [
        {
          "output_type": "execute_result",
          "data": {
            "text/html": [
              "<div>\n",
              "<style scoped>\n",
              "    .dataframe tbody tr th:only-of-type {\n",
              "        vertical-align: middle;\n",
              "    }\n",
              "\n",
              "    .dataframe tbody tr th {\n",
              "        vertical-align: top;\n",
              "    }\n",
              "\n",
              "    .dataframe thead th {\n",
              "        text-align: right;\n",
              "    }\n",
              "</style>\n",
              "<table border=\"1\" class=\"dataframe\">\n",
              "  <thead>\n",
              "    <tr style=\"text-align: right;\">\n",
              "      <th></th>\n",
              "      <th>count</th>\n",
              "    </tr>\n",
              "  </thead>\n",
              "  <tbody>\n",
              "    <tr>\n",
              "      <th>0</th>\n",
              "      <td>866</td>\n",
              "    </tr>\n",
              "  </tbody>\n",
              "</table>\n",
              "</div>"
            ],
            "text/plain": [
              "   count\n",
              "0    866"
            ]
          },
          "metadata": {},
          "execution_count": 37
        }
      ]
    },
    {
      "cell_type": "markdown",
      "metadata": {
        "id": "hvFKF_v2JEze"
      },
      "source": [
        "2 (0 points) Plot the number of records"
      ]
    },
    {
      "cell_type": "code",
      "metadata": {
        "colab": {
          "base_uri": "https://localhost:8080/",
          "height": 265
        },
        "id": "cbsidJqoJEze",
        "outputId": "9464db0f-d0dd-44eb-bd1c-2e06f4df093b"
      },
      "source": [
        "import matplotlib.pyplot as plt\n",
        "import numpy as np\n",
        "tables = ('IngUsedFact', 'IngUsedByDayFact', 'IngUsedByMonthFact')\n",
        "y_pos = np.arange(len(tables))\n",
        "records = [py_var_IngUsedFact_num[0][0], py_var_IngUsedByDayFact_num[0][0], py_var_IngUsedByMonthFact_num[0][0]]\n",
        "plt.bar(tables, records)\n",
        "plt.ylabel('Records')\n",
        "\n",
        "plt.show()"
      ],
      "execution_count": 38,
      "outputs": [
        {
          "output_type": "display_data",
          "data": {
            "image/png": "[encoded data removed]",
            "text/plain": [
              "<Figure size 432x288 with 1 Axes>"
            ]
          },
          "metadata": {
            "needs_background": "light"
          }
        }
      ]
    },
    {
      "cell_type": "markdown",
      "metadata": {
        "id": "KAZ865FvJEzf"
      },
      "source": [
        "3. (1 point) Describe the shape of the plot as it relates to the number of records. Why does the data look this way?"
      ]
    },
    {
      "cell_type": "markdown",
      "metadata": {
        "id": "sY5IK6-VJEzg"
      },
      "source": [
        "\n",
        "The plot is sckewed to the left. The data looks this way as IngUsedByDayFact and IngUsedByMonthFact contain aggregated data of IgnUsedFact."
      ]
    },
    {
      "cell_type": "markdown",
      "metadata": {
        "id": "hAHlicDzJEzh"
      },
      "source": [
        "4. (4 points) Compute the minimum, maximum, and average price per product per ticket for events that started on or after 6 PM. Round each value to 2 decimal places.\n",
        "\n",
        "Return `minPrice`, `maxPrice`, `avgPrice`"
      ]
    },
    {
      "cell_type": "code",
      "metadata": {
        "colab": {
          "base_uri": "https://localhost:8080/"
        },
        "id": "SEbkJw9IJEzh",
        "outputId": "7a6908f4-dd19-4e95-9c4e-2b151f8ecf3d"
      },
      "source": [
        "%%sql py_var_productPrice <<\n",
        "SELECT ROUND(MIN(psd.price),2) as minPrice, ROUND(MAX(psd.price),2) as maxPrice, ROUND(AVG(psd.price),2) as avgPrice FROM\n",
        "IngUsedFact iuf join ProductSoldDim psd on iuf.productsold = psd.id join TicketDim td on iuf.ticket = td.id join EventDim ed on iuf.event = ed.id\n",
        "where EXTRACT(HOUR FROM ed.eventstart) >= 18;"
      ],
      "execution_count": 41,
      "outputs": [
        {
          "output_type": "stream",
          "name": "stdout",
          "text": [
            " * postgresql+psycopg2://@/postgres\n",
            "1 rows affected.\n",
            "Returning data to local variable py_var_productPrice\n"
          ]
        }
      ]
    },
    {
      "cell_type": "code",
      "metadata": {
        "colab": {
          "base_uri": "https://localhost:8080/",
          "height": 80
        },
        "id": "-Neth1gqJEzh",
        "outputId": "e428b3c1-ec37-419e-b98e-118241e446c2"
      },
      "source": [
        "# do not modify or delete this cell\n",
        "df_q04 = py_var_productPrice.DataFrame() # Save the result of this task for grading purposes\n",
        "df_q04"
      ],
      "execution_count": 42,
      "outputs": [
        {
          "output_type": "execute_result",
          "data": {
            "text/html": [
              "<div>\n",
              "<style scoped>\n",
              "    .dataframe tbody tr th:only-of-type {\n",
              "        vertical-align: middle;\n",
              "    }\n",
              "\n",
              "    .dataframe tbody tr th {\n",
              "        vertical-align: top;\n",
              "    }\n",
              "\n",
              "    .dataframe thead th {\n",
              "        text-align: right;\n",
              "    }\n",
              "</style>\n",
              "<table border=\"1\" class=\"dataframe\">\n",
              "  <thead>\n",
              "    <tr style=\"text-align: right;\">\n",
              "      <th></th>\n",
              "      <th>minprice</th>\n",
              "      <th>maxprice</th>\n",
              "      <th>avgprice</th>\n",
              "    </tr>\n",
              "  </thead>\n",
              "  <tbody>\n",
              "    <tr>\n",
              "      <th>0</th>\n",
              "      <td>0.75</td>\n",
              "      <td>8.00</td>\n",
              "      <td>5.01</td>\n",
              "    </tr>\n",
              "  </tbody>\n",
              "</table>\n",
              "</div>"
            ],
            "text/plain": [
              "  minprice maxprice avgprice\n",
              "0     0.75     8.00     5.01"
            ]
          },
          "metadata": {},
          "execution_count": 42
        }
      ]
    },
    {
      "cell_type": "markdown",
      "metadata": {
        "id": "B5fkNbQOJEzi"
      },
      "source": [
        "5. (4 points)  When measured by ounces, did the truck sell more vanilla ice cream in July 2017 or August  2017? Write a **single query** that gives you the answer to this question. You may use views.  Return the number of the month. Your answer should be 6 or 7. Use the `IngUsedByMonthFact` table and time your answer. \n",
        "\n",
        "Name the attribute `monthSold`.\n",
        "\n",
        "You can get the time by using ```EXPLAIN ANALYZE``` in the query cell\n",
        "\n",
        "Report the run time. Provide your query and results. You may run the query twice, once to get the timing and once to get the results.\n"
      ]
    },
    {
      "cell_type": "code",
      "metadata": {
        "colab": {
          "base_uri": "https://localhost:8080/"
        },
        "id": "Dhydd_8ZJEzi",
        "outputId": "bd09be78-3372-4de4-a580-82d27f41e2b0"
      },
      "source": [
        "%%sql py_var_moreSalesMonthFact <<\n",
        "SELECT iumf.month as monthSold from\n",
        "IngUsedByMonthFact iumf where\n",
        "iumf.ingname = 'ice cream' and iumf.detail = 'vanilla' and iumf.month in (7,8) and\n",
        "iumf.year = 2017\n",
        "GROUP BY iumf.month\n",
        "ORDER BY sum(iumf.qty) DESC\n",
        "LIMIT 1;"
      ],
      "execution_count": 45,
      "outputs": [
        {
          "output_type": "stream",
          "name": "stdout",
          "text": [
            " * postgresql+psycopg2://@/postgres\n",
            "1 rows affected.\n",
            "Returning data to local variable py_var_moreSalesMonthFact\n"
          ]
        }
      ]
    },
    {
      "cell_type": "code",
      "metadata": {
        "colab": {
          "base_uri": "https://localhost:8080/",
          "height": 80
        },
        "id": "43ieRUOsJEzj",
        "outputId": "5831fb2e-1ba2-4ebc-96aa-802883fca10f"
      },
      "source": [
        "# do not modify or delete this cell\n",
        "df_q05 = py_var_moreSalesMonthFact.DataFrame() # Save the result of this task for grading purposes\n",
        "df_q05"
      ],
      "execution_count": 46,
      "outputs": [
        {
          "output_type": "execute_result",
          "data": {
            "text/html": [
              "<div>\n",
              "<style scoped>\n",
              "    .dataframe tbody tr th:only-of-type {\n",
              "        vertical-align: middle;\n",
              "    }\n",
              "\n",
              "    .dataframe tbody tr th {\n",
              "        vertical-align: top;\n",
              "    }\n",
              "\n",
              "    .dataframe thead th {\n",
              "        text-align: right;\n",
              "    }\n",
              "</style>\n",
              "<table border=\"1\" class=\"dataframe\">\n",
              "  <thead>\n",
              "    <tr style=\"text-align: right;\">\n",
              "      <th></th>\n",
              "      <th>monthsold</th>\n",
              "    </tr>\n",
              "  </thead>\n",
              "  <tbody>\n",
              "    <tr>\n",
              "      <th>0</th>\n",
              "      <td>7</td>\n",
              "    </tr>\n",
              "  </tbody>\n",
              "</table>\n",
              "</div>"
            ],
            "text/plain": [
              "   monthsold\n",
              "0          7"
            ]
          },
          "metadata": {},
          "execution_count": 46
        }
      ]
    },
    {
      "cell_type": "markdown",
      "metadata": {
        "id": "0wIJTYTYJEzj"
      },
      "source": [
        "Time your query"
      ]
    },
    {
      "cell_type": "code",
      "metadata": {
        "colab": {
          "base_uri": "https://localhost:8080/",
          "height": 368
        },
        "id": "QuLcxQ_5JEzj",
        "outputId": "dacad464-69c5-478d-f31a-350eab2f3780"
      },
      "source": [
        "%%sql\n",
        "EXPLAIN ANALYZE\n",
        "SELECT iumf.month as monthSold from\n",
        "IngUsedByMonthFact iumf where\n",
        "iumf.ingname = 'ice cream' and iumf.detail = 'vanilla' and iumf.month in (7,8) and\n",
        "iumf.year = 2017\n",
        "GROUP BY iumf.month\n",
        "ORDER BY sum(iumf.qty) DESC\n",
        "LIMIT 1;"
      ],
      "execution_count": 48,
      "outputs": [
        {
          "output_type": "stream",
          "name": "stdout",
          "text": [
            " * postgresql+psycopg2://@/postgres\n",
            "14 rows affected.\n"
          ]
        },
        {
          "output_type": "execute_result",
          "data": {
            "text/html": [
              "<table>\n",
              "    <thead>\n",
              "        <tr>\n",
              "            <th>QUERY PLAN</th>\n",
              "        </tr>\n",
              "    </thead>\n",
              "    <tbody>\n",
              "        <tr>\n",
              "            <td>Limit  (cost=25.36..25.37 rows=1 width=36) (actual time=0.260..0.261 rows=1 loops=1)</td>\n",
              "        </tr>\n",
              "        <tr>\n",
              "            <td>&nbsp;&nbsp;-&gt;  Sort  (cost=25.36..25.37 rows=1 width=36) (actual time=0.259..0.259 rows=1 loops=1)</td>\n",
              "        </tr>\n",
              "        <tr>\n",
              "            <td>&nbsp;&nbsp;&nbsp;&nbsp;&nbsp;&nbsp;&nbsp;&nbsp;Sort Key: (sum(qty)) DESC</td>\n",
              "        </tr>\n",
              "        <tr>\n",
              "            <td>&nbsp;&nbsp;&nbsp;&nbsp;&nbsp;&nbsp;&nbsp;&nbsp;Sort Method: quicksort  Memory: 25kB</td>\n",
              "        </tr>\n",
              "        <tr>\n",
              "            <td>&nbsp;&nbsp;&nbsp;&nbsp;&nbsp;&nbsp;&nbsp;&nbsp;-&gt;  GroupAggregate  (cost=25.33..25.35 rows=1 width=36) (actual time=0.245..0.247 rows=2 loops=1)</td>\n",
              "        </tr>\n",
              "        <tr>\n",
              "            <td>&nbsp;&nbsp;&nbsp;&nbsp;&nbsp;&nbsp;&nbsp;&nbsp;&nbsp;&nbsp;&nbsp;&nbsp;&nbsp;&nbsp;Group Key: month</td>\n",
              "        </tr>\n",
              "        <tr>\n",
              "            <td>&nbsp;&nbsp;&nbsp;&nbsp;&nbsp;&nbsp;&nbsp;&nbsp;&nbsp;&nbsp;&nbsp;&nbsp;&nbsp;&nbsp;-&gt;  Sort  (cost=25.33..25.34 rows=1 width=9) (actual time=0.234..0.235 rows=2 loops=1)</td>\n",
              "        </tr>\n",
              "        <tr>\n",
              "            <td>&nbsp;&nbsp;&nbsp;&nbsp;&nbsp;&nbsp;&nbsp;&nbsp;&nbsp;&nbsp;&nbsp;&nbsp;&nbsp;&nbsp;&nbsp;&nbsp;&nbsp;&nbsp;&nbsp;&nbsp;Sort Key: month</td>\n",
              "        </tr>\n",
              "        <tr>\n",
              "            <td>&nbsp;&nbsp;&nbsp;&nbsp;&nbsp;&nbsp;&nbsp;&nbsp;&nbsp;&nbsp;&nbsp;&nbsp;&nbsp;&nbsp;&nbsp;&nbsp;&nbsp;&nbsp;&nbsp;&nbsp;Sort Method: quicksort  Memory: 25kB</td>\n",
              "        </tr>\n",
              "        <tr>\n",
              "            <td>&nbsp;&nbsp;&nbsp;&nbsp;&nbsp;&nbsp;&nbsp;&nbsp;&nbsp;&nbsp;&nbsp;&nbsp;&nbsp;&nbsp;&nbsp;&nbsp;&nbsp;&nbsp;&nbsp;&nbsp;-&gt;  Seq Scan on ingusedbymonthfact iumf  (cost=0.00..25.32 rows=1 width=9) (actual time=0.141..0.224 rows=2 loops=1)</td>\n",
              "        </tr>\n",
              "        <tr>\n",
              "            <td>&nbsp;&nbsp;&nbsp;&nbsp;&nbsp;&nbsp;&nbsp;&nbsp;&nbsp;&nbsp;&nbsp;&nbsp;&nbsp;&nbsp;&nbsp;&nbsp;&nbsp;&nbsp;&nbsp;&nbsp;&nbsp;&nbsp;&nbsp;&nbsp;&nbsp;&nbsp;Filter: ((month = ANY (&#x27;{7,8}&#x27;::integer[])) AND ((ingname)::text = &#x27;ice cream&#x27;::text) AND ((detail)::text = &#x27;vanilla&#x27;::text) AND (year = 2017))</td>\n",
              "        </tr>\n",
              "        <tr>\n",
              "            <td>&nbsp;&nbsp;&nbsp;&nbsp;&nbsp;&nbsp;&nbsp;&nbsp;&nbsp;&nbsp;&nbsp;&nbsp;&nbsp;&nbsp;&nbsp;&nbsp;&nbsp;&nbsp;&nbsp;&nbsp;&nbsp;&nbsp;&nbsp;&nbsp;&nbsp;&nbsp;Rows Removed by Filter: 864</td>\n",
              "        </tr>\n",
              "        <tr>\n",
              "            <td>Planning time: 0.181 ms</td>\n",
              "        </tr>\n",
              "        <tr>\n",
              "            <td>Execution time: 0.318 ms</td>\n",
              "        </tr>\n",
              "    </tbody>\n",
              "</table>"
            ],
            "text/plain": [
              "[('Limit  (cost=25.36..25.37 rows=1 width=36) (actual time=0.260..0.261 rows=1 loops=1)',),\n",
              " ('  ->  Sort  (cost=25.36..25.37 rows=1 width=36) (actual time=0.259..0.259 rows=1 loops=1)',),\n",
              " ('        Sort Key: (sum(qty)) DESC',),\n",
              " ('        Sort Method: quicksort  Memory: 25kB',),\n",
              " ('        ->  GroupAggregate  (cost=25.33..25.35 rows=1 width=36) (actual time=0.245..0.247 rows=2 loops=1)',),\n",
              " ('              Group Key: month',),\n",
              " ('              ->  Sort  (cost=25.33..25.34 rows=1 width=9) (actual time=0.234..0.235 rows=2 loops=1)',),\n",
              " ('                    Sort Key: month',),\n",
              " ('                    Sort Method: quicksort  Memory: 25kB',),\n",
              " ('                    ->  Seq Scan on ingusedbymonthfact iumf  (cost=0.00..25.32 rows=1 width=9) (actual time=0.141..0.224 rows=2 loops=1)',),\n",
              " (\"                          Filter: ((month = ANY ('{7,8}'::integer[])) AND ((ingname)::text = 'ice cream'::text) AND ((detail)::text = 'vanilla'::text) AND (year = 2017))\",),\n",
              " ('                          Rows Removed by Filter: 864',),\n",
              " ('Planning time: 0.181 ms',),\n",
              " ('Execution time: 0.318 ms',)]"
            ]
          },
          "metadata": {},
          "execution_count": 48
        }
      ]
    },
    {
      "cell_type": "markdown",
      "metadata": {
        "id": "JRnDbzKhJEzk"
      },
      "source": [
        "6. (1 point) Now, write and run an analogous query on the `IngUsedByDayFact` table. Report the run time."
      ]
    },
    {
      "cell_type": "code",
      "metadata": {
        "colab": {
          "base_uri": "https://localhost:8080/"
        },
        "id": "vA0k9gn_JEzk",
        "outputId": "83abba13-f2ca-4bb8-d7f4-581d6fc92aca"
      },
      "source": [
        "%%sql py_var_moreSalesDayFact <<\n",
        "SELECT iumf.month as monthSold from\n",
        "IngUsedByDayFact iumf where\n",
        "iumf.ingname = 'ice cream' and iumf.detail = 'vanilla' and iumf.month in (7,8) and\n",
        "iumf.year = 2017\n",
        "GROUP BY iumf.month\n",
        "ORDER BY sum(iumf.qty) DESC\n",
        "LIMIT 1;"
      ],
      "execution_count": 49,
      "outputs": [
        {
          "output_type": "stream",
          "name": "stdout",
          "text": [
            " * postgresql+psycopg2://@/postgres\n",
            "1 rows affected.\n",
            "Returning data to local variable py_var_moreSalesDayFact\n"
          ]
        }
      ]
    },
    {
      "cell_type": "code",
      "metadata": {
        "colab": {
          "base_uri": "https://localhost:8080/",
          "height": 80
        },
        "id": "aG7Ra6dZJEzk",
        "outputId": "3c69e938-0a27-445f-e232-d11dd0b627a6"
      },
      "source": [
        "# do not modify or delete this cell\n",
        "df_q06 = py_var_moreSalesDayFact.DataFrame() # Save the result of this task for grading purposes\n",
        "df_q06"
      ],
      "execution_count": 50,
      "outputs": [
        {
          "output_type": "execute_result",
          "data": {
            "text/html": [
              "<div>\n",
              "<style scoped>\n",
              "    .dataframe tbody tr th:only-of-type {\n",
              "        vertical-align: middle;\n",
              "    }\n",
              "\n",
              "    .dataframe tbody tr th {\n",
              "        vertical-align: top;\n",
              "    }\n",
              "\n",
              "    .dataframe thead th {\n",
              "        text-align: right;\n",
              "    }\n",
              "</style>\n",
              "<table border=\"1\" class=\"dataframe\">\n",
              "  <thead>\n",
              "    <tr style=\"text-align: right;\">\n",
              "      <th></th>\n",
              "      <th>monthsold</th>\n",
              "    </tr>\n",
              "  </thead>\n",
              "  <tbody>\n",
              "    <tr>\n",
              "      <th>0</th>\n",
              "      <td>7</td>\n",
              "    </tr>\n",
              "  </tbody>\n",
              "</table>\n",
              "</div>"
            ],
            "text/plain": [
              "   monthsold\n",
              "0          7"
            ]
          },
          "metadata": {},
          "execution_count": 50
        }
      ]
    },
    {
      "cell_type": "markdown",
      "metadata": {
        "id": "q6oCIzA4JEzl"
      },
      "source": [
        "Time your query"
      ]
    },
    {
      "cell_type": "code",
      "metadata": {
        "colab": {
          "base_uri": "https://localhost:8080/",
          "height": 368
        },
        "id": "fwU_Ah4DJEzl",
        "outputId": "eee919f8-227b-4001-e002-3e98e95474a9"
      },
      "source": [
        "%%sql\n",
        "EXPLAIN ANALYZE\n",
        "SELECT iumf.month as monthSold from\n",
        "IngUsedByDayFact iumf where\n",
        "iumf.ingname = 'ice cream' and iumf.detail = 'vanilla' and iumf.month in (7,8) and\n",
        "iumf.year = 2017\n",
        "GROUP BY iumf.month\n",
        "ORDER BY sum(iumf.qty) DESC\n",
        "LIMIT 1;"
      ],
      "execution_count": 51,
      "outputs": [
        {
          "output_type": "stream",
          "name": "stdout",
          "text": [
            " * postgresql+psycopg2://@/postgres\n",
            "14 rows affected.\n"
          ]
        },
        {
          "output_type": "execute_result",
          "data": {
            "text/html": [
              "<table>\n",
              "    <thead>\n",
              "        <tr>\n",
              "            <th>QUERY PLAN</th>\n",
              "        </tr>\n",
              "    </thead>\n",
              "    <tbody>\n",
              "        <tr>\n",
              "            <td>Limit  (cost=106.06..106.07 rows=1 width=36) (actual time=0.992..0.994 rows=1 loops=1)</td>\n",
              "        </tr>\n",
              "        <tr>\n",
              "            <td>&nbsp;&nbsp;-&gt;  Sort  (cost=106.06..106.07 rows=1 width=36) (actual time=0.991..0.992 rows=1 loops=1)</td>\n",
              "        </tr>\n",
              "        <tr>\n",
              "            <td>&nbsp;&nbsp;&nbsp;&nbsp;&nbsp;&nbsp;&nbsp;&nbsp;Sort Key: (sum(qty)) DESC</td>\n",
              "        </tr>\n",
              "        <tr>\n",
              "            <td>&nbsp;&nbsp;&nbsp;&nbsp;&nbsp;&nbsp;&nbsp;&nbsp;Sort Method: quicksort  Memory: 25kB</td>\n",
              "        </tr>\n",
              "        <tr>\n",
              "            <td>&nbsp;&nbsp;&nbsp;&nbsp;&nbsp;&nbsp;&nbsp;&nbsp;-&gt;  GroupAggregate  (cost=106.03..106.05 rows=1 width=36) (actual time=0.979..0.982 rows=2 loops=1)</td>\n",
              "        </tr>\n",
              "        <tr>\n",
              "            <td>&nbsp;&nbsp;&nbsp;&nbsp;&nbsp;&nbsp;&nbsp;&nbsp;&nbsp;&nbsp;&nbsp;&nbsp;&nbsp;&nbsp;Group Key: month</td>\n",
              "        </tr>\n",
              "        <tr>\n",
              "            <td>&nbsp;&nbsp;&nbsp;&nbsp;&nbsp;&nbsp;&nbsp;&nbsp;&nbsp;&nbsp;&nbsp;&nbsp;&nbsp;&nbsp;-&gt;  Sort  (cost=106.03..106.03 rows=1 width=9) (actual time=0.965..0.966 rows=6 loops=1)</td>\n",
              "        </tr>\n",
              "        <tr>\n",
              "            <td>&nbsp;&nbsp;&nbsp;&nbsp;&nbsp;&nbsp;&nbsp;&nbsp;&nbsp;&nbsp;&nbsp;&nbsp;&nbsp;&nbsp;&nbsp;&nbsp;&nbsp;&nbsp;&nbsp;&nbsp;Sort Key: month</td>\n",
              "        </tr>\n",
              "        <tr>\n",
              "            <td>&nbsp;&nbsp;&nbsp;&nbsp;&nbsp;&nbsp;&nbsp;&nbsp;&nbsp;&nbsp;&nbsp;&nbsp;&nbsp;&nbsp;&nbsp;&nbsp;&nbsp;&nbsp;&nbsp;&nbsp;Sort Method: quicksort  Memory: 25kB</td>\n",
              "        </tr>\n",
              "        <tr>\n",
              "            <td>&nbsp;&nbsp;&nbsp;&nbsp;&nbsp;&nbsp;&nbsp;&nbsp;&nbsp;&nbsp;&nbsp;&nbsp;&nbsp;&nbsp;&nbsp;&nbsp;&nbsp;&nbsp;&nbsp;&nbsp;-&gt;  Seq Scan on ingusedbydayfact iumf  (cost=0.00..106.02 rows=1 width=9) (actual time=0.344..0.954 rows=6 loops=1)</td>\n",
              "        </tr>\n",
              "        <tr>\n",
              "            <td>&nbsp;&nbsp;&nbsp;&nbsp;&nbsp;&nbsp;&nbsp;&nbsp;&nbsp;&nbsp;&nbsp;&nbsp;&nbsp;&nbsp;&nbsp;&nbsp;&nbsp;&nbsp;&nbsp;&nbsp;&nbsp;&nbsp;&nbsp;&nbsp;&nbsp;&nbsp;Filter: ((month = ANY (&#x27;{7,8}&#x27;::integer[])) AND ((ingname)::text = &#x27;ice cream&#x27;::text) AND ((detail)::text = &#x27;vanilla&#x27;::text) AND (year = 2017))</td>\n",
              "        </tr>\n",
              "        <tr>\n",
              "            <td>&nbsp;&nbsp;&nbsp;&nbsp;&nbsp;&nbsp;&nbsp;&nbsp;&nbsp;&nbsp;&nbsp;&nbsp;&nbsp;&nbsp;&nbsp;&nbsp;&nbsp;&nbsp;&nbsp;&nbsp;&nbsp;&nbsp;&nbsp;&nbsp;&nbsp;&nbsp;Rows Removed by Filter: 3645</td>\n",
              "        </tr>\n",
              "        <tr>\n",
              "            <td>Planning time: 0.156 ms</td>\n",
              "        </tr>\n",
              "        <tr>\n",
              "            <td>Execution time: 1.039 ms</td>\n",
              "        </tr>\n",
              "    </tbody>\n",
              "</table>"
            ],
            "text/plain": [
              "[('Limit  (cost=106.06..106.07 rows=1 width=36) (actual time=0.992..0.994 rows=1 loops=1)',),\n",
              " ('  ->  Sort  (cost=106.06..106.07 rows=1 width=36) (actual time=0.991..0.992 rows=1 loops=1)',),\n",
              " ('        Sort Key: (sum(qty)) DESC',),\n",
              " ('        Sort Method: quicksort  Memory: 25kB',),\n",
              " ('        ->  GroupAggregate  (cost=106.03..106.05 rows=1 width=36) (actual time=0.979..0.982 rows=2 loops=1)',),\n",
              " ('              Group Key: month',),\n",
              " ('              ->  Sort  (cost=106.03..106.03 rows=1 width=9) (actual time=0.965..0.966 rows=6 loops=1)',),\n",
              " ('                    Sort Key: month',),\n",
              " ('                    Sort Method: quicksort  Memory: 25kB',),\n",
              " ('                    ->  Seq Scan on ingusedbydayfact iumf  (cost=0.00..106.02 rows=1 width=9) (actual time=0.344..0.954 rows=6 loops=1)',),\n",
              " (\"                          Filter: ((month = ANY ('{7,8}'::integer[])) AND ((ingname)::text = 'ice cream'::text) AND ((detail)::text = 'vanilla'::text) AND (year = 2017))\",),\n",
              " ('                          Rows Removed by Filter: 3645',),\n",
              " ('Planning time: 0.156 ms',),\n",
              " ('Execution time: 1.039 ms',)]"
            ]
          },
          "metadata": {},
          "execution_count": 51
        }
      ]
    },
    {
      "cell_type": "markdown",
      "metadata": {
        "id": "lxe2NOCgJEzl"
      },
      "source": [
        "7. (1 point) Now, write and run an analogous query on the `IngUsedFact` table. Report the run time."
      ]
    },
    {
      "cell_type": "code",
      "metadata": {
        "colab": {
          "base_uri": "https://localhost:8080/"
        },
        "id": "gXIlEZkjJEzm",
        "outputId": "73908185-263c-4433-d878-504438f04364"
      },
      "source": [
        "%%sql py_var_moreSalesFact <<\n",
        "SELECT dd.month as monthSold from\n",
        "IngUsedFact iumf JOIN DateDim dd on iumf.date = dd.id where\n",
        "iumf.ingname = 'ice cream' and iumf.detail = 'vanilla' and dd.month in (7,8) and\n",
        "dd.year = 2017\n",
        "GROUP BY dd.month\n",
        "ORDER BY sum(iumf.qty) DESC\n",
        "LIMIT 1;"
      ],
      "execution_count": 53,
      "outputs": [
        {
          "output_type": "stream",
          "name": "stdout",
          "text": [
            " * postgresql+psycopg2://@/postgres\n",
            "1 rows affected.\n",
            "Returning data to local variable py_var_moreSalesFact\n"
          ]
        }
      ]
    },
    {
      "cell_type": "code",
      "metadata": {
        "colab": {
          "base_uri": "https://localhost:8080/",
          "height": 80
        },
        "id": "j4PS043YJEzm",
        "outputId": "8d3edb64-e6e7-4f08-e6c3-bcd6546d6053"
      },
      "source": [
        "# do not modify or delete this cell\n",
        "df_q07 = py_var_moreSalesFact.DataFrame() # Save the result of this task for grading purposes\n",
        "df_q07"
      ],
      "execution_count": 54,
      "outputs": [
        {
          "output_type": "execute_result",
          "data": {
            "text/html": [
              "<div>\n",
              "<style scoped>\n",
              "    .dataframe tbody tr th:only-of-type {\n",
              "        vertical-align: middle;\n",
              "    }\n",
              "\n",
              "    .dataframe tbody tr th {\n",
              "        vertical-align: top;\n",
              "    }\n",
              "\n",
              "    .dataframe thead th {\n",
              "        text-align: right;\n",
              "    }\n",
              "</style>\n",
              "<table border=\"1\" class=\"dataframe\">\n",
              "  <thead>\n",
              "    <tr style=\"text-align: right;\">\n",
              "      <th></th>\n",
              "      <th>monthsold</th>\n",
              "    </tr>\n",
              "  </thead>\n",
              "  <tbody>\n",
              "    <tr>\n",
              "      <th>0</th>\n",
              "      <td>7</td>\n",
              "    </tr>\n",
              "  </tbody>\n",
              "</table>\n",
              "</div>"
            ],
            "text/plain": [
              "   monthsold\n",
              "0          7"
            ]
          },
          "metadata": {},
          "execution_count": 54
        }
      ]
    },
    {
      "cell_type": "markdown",
      "metadata": {
        "id": "yMEPaaIbJEzm"
      },
      "source": [
        "Time your query"
      ]
    },
    {
      "cell_type": "code",
      "metadata": {
        "colab": {
          "base_uri": "https://localhost:8080/",
          "height": 515
        },
        "id": "4o_caoA5JEzm",
        "outputId": "cd4ffd58-becd-47dc-c1ca-74db708dde3f"
      },
      "source": [
        "%%sql\n",
        "EXPLAIN ANALYZE\n",
        "SELECT dd.month as monthSold from\n",
        "IngUsedFact iumf JOIN DateDim dd on iumf.date = dd.id where\n",
        "iumf.ingname = 'ice cream' and iumf.detail = 'vanilla' and dd.month in (7,8) and\n",
        "dd.year = 2017\n",
        "GROUP BY dd.month\n",
        "ORDER BY sum(iumf.qty) DESC\n",
        "LIMIT 1;"
      ],
      "execution_count": 55,
      "outputs": [
        {
          "output_type": "stream",
          "name": "stdout",
          "text": [
            " * postgresql+psycopg2://@/postgres\n",
            "21 rows affected.\n"
          ]
        },
        {
          "output_type": "execute_result",
          "data": {
            "text/html": [
              "<table>\n",
              "    <thead>\n",
              "        <tr>\n",
              "            <th>QUERY PLAN</th>\n",
              "        </tr>\n",
              "    </thead>\n",
              "    <tbody>\n",
              "        <tr>\n",
              "            <td>Limit  (cost=1809.81..1809.81 rows=1 width=36) (actual time=13.223..13.226 rows=1 loops=1)</td>\n",
              "        </tr>\n",
              "        <tr>\n",
              "            <td>&nbsp;&nbsp;-&gt;  Sort  (cost=1809.81..1809.82 rows=5 width=36) (actual time=13.222..13.224 rows=1 loops=1)</td>\n",
              "        </tr>\n",
              "        <tr>\n",
              "            <td>&nbsp;&nbsp;&nbsp;&nbsp;&nbsp;&nbsp;&nbsp;&nbsp;Sort Key: (sum(iumf.qty)) DESC</td>\n",
              "        </tr>\n",
              "        <tr>\n",
              "            <td>&nbsp;&nbsp;&nbsp;&nbsp;&nbsp;&nbsp;&nbsp;&nbsp;Sort Method: quicksort  Memory: 25kB</td>\n",
              "        </tr>\n",
              "        <tr>\n",
              "            <td>&nbsp;&nbsp;&nbsp;&nbsp;&nbsp;&nbsp;&nbsp;&nbsp;-&gt;  GroupAggregate  (cost=1809.36..1809.78 rows=5 width=36) (actual time=13.156..13.217 rows=2 loops=1)</td>\n",
              "        </tr>\n",
              "        <tr>\n",
              "            <td>&nbsp;&nbsp;&nbsp;&nbsp;&nbsp;&nbsp;&nbsp;&nbsp;&nbsp;&nbsp;&nbsp;&nbsp;&nbsp;&nbsp;Group Key: dd.month</td>\n",
              "        </tr>\n",
              "        <tr>\n",
              "            <td>&nbsp;&nbsp;&nbsp;&nbsp;&nbsp;&nbsp;&nbsp;&nbsp;&nbsp;&nbsp;&nbsp;&nbsp;&nbsp;&nbsp;-&gt;  Sort  (cost=1809.36..1809.48 rows=48 width=9) (actual time=13.074..13.108 rows=604 loops=1)</td>\n",
              "        </tr>\n",
              "        <tr>\n",
              "            <td>&nbsp;&nbsp;&nbsp;&nbsp;&nbsp;&nbsp;&nbsp;&nbsp;&nbsp;&nbsp;&nbsp;&nbsp;&nbsp;&nbsp;&nbsp;&nbsp;&nbsp;&nbsp;&nbsp;&nbsp;Sort Key: dd.month</td>\n",
              "        </tr>\n",
              "        <tr>\n",
              "            <td>&nbsp;&nbsp;&nbsp;&nbsp;&nbsp;&nbsp;&nbsp;&nbsp;&nbsp;&nbsp;&nbsp;&nbsp;&nbsp;&nbsp;&nbsp;&nbsp;&nbsp;&nbsp;&nbsp;&nbsp;Sort Method: quicksort  Memory: 53kB</td>\n",
              "        </tr>\n",
              "        <tr>\n",
              "            <td>&nbsp;&nbsp;&nbsp;&nbsp;&nbsp;&nbsp;&nbsp;&nbsp;&nbsp;&nbsp;&nbsp;&nbsp;&nbsp;&nbsp;&nbsp;&nbsp;&nbsp;&nbsp;&nbsp;&nbsp;-&gt;  Hash Join  (cost=2.08..1808.02 rows=48 width=9) (actual time=1.312..12.938 rows=604 loops=1)</td>\n",
              "        </tr>\n",
              "        <tr>\n",
              "            <td>&nbsp;&nbsp;&nbsp;&nbsp;&nbsp;&nbsp;&nbsp;&nbsp;&nbsp;&nbsp;&nbsp;&nbsp;&nbsp;&nbsp;&nbsp;&nbsp;&nbsp;&nbsp;&nbsp;&nbsp;&nbsp;&nbsp;&nbsp;&nbsp;&nbsp;&nbsp;Hash Cond: (iumf.date = dd.id)</td>\n",
              "        </tr>\n",
              "        <tr>\n",
              "            <td>&nbsp;&nbsp;&nbsp;&nbsp;&nbsp;&nbsp;&nbsp;&nbsp;&nbsp;&nbsp;&nbsp;&nbsp;&nbsp;&nbsp;&nbsp;&nbsp;&nbsp;&nbsp;&nbsp;&nbsp;&nbsp;&nbsp;&nbsp;&nbsp;&nbsp;&nbsp;-&gt;  Seq Scan on ingusedfact iumf  (cost=0.00..1804.44 rows=538 width=9) (actual time=0.010..12.209 rows=4822 loops=1)</td>\n",
              "        </tr>\n",
              "        <tr>\n",
              "            <td>&nbsp;&nbsp;&nbsp;&nbsp;&nbsp;&nbsp;&nbsp;&nbsp;&nbsp;&nbsp;&nbsp;&nbsp;&nbsp;&nbsp;&nbsp;&nbsp;&nbsp;&nbsp;&nbsp;&nbsp;&nbsp;&nbsp;&nbsp;&nbsp;&nbsp;&nbsp;&nbsp;&nbsp;&nbsp;&nbsp;&nbsp;&nbsp;Filter: (((ingname)::text = &#x27;ice cream&#x27;::text) AND ((detail)::text = &#x27;vanilla&#x27;::text))</td>\n",
              "        </tr>\n",
              "        <tr>\n",
              "            <td>&nbsp;&nbsp;&nbsp;&nbsp;&nbsp;&nbsp;&nbsp;&nbsp;&nbsp;&nbsp;&nbsp;&nbsp;&nbsp;&nbsp;&nbsp;&nbsp;&nbsp;&nbsp;&nbsp;&nbsp;&nbsp;&nbsp;&nbsp;&nbsp;&nbsp;&nbsp;&nbsp;&nbsp;&nbsp;&nbsp;&nbsp;&nbsp;Rows Removed by Filter: 68274</td>\n",
              "        </tr>\n",
              "        <tr>\n",
              "            <td>&nbsp;&nbsp;&nbsp;&nbsp;&nbsp;&nbsp;&nbsp;&nbsp;&nbsp;&nbsp;&nbsp;&nbsp;&nbsp;&nbsp;&nbsp;&nbsp;&nbsp;&nbsp;&nbsp;&nbsp;&nbsp;&nbsp;&nbsp;&nbsp;&nbsp;&nbsp;-&gt;  Hash  (cost=2.00..2.00 rows=6 width=8) (actual time=0.014..0.014 rows=6 loops=1)</td>\n",
              "        </tr>\n",
              "        <tr>\n",
              "            <td>&nbsp;&nbsp;&nbsp;&nbsp;&nbsp;&nbsp;&nbsp;&nbsp;&nbsp;&nbsp;&nbsp;&nbsp;&nbsp;&nbsp;&nbsp;&nbsp;&nbsp;&nbsp;&nbsp;&nbsp;&nbsp;&nbsp;&nbsp;&nbsp;&nbsp;&nbsp;&nbsp;&nbsp;&nbsp;&nbsp;&nbsp;&nbsp;Buckets: 1024  Batches: 1  Memory Usage: 9kB</td>\n",
              "        </tr>\n",
              "        <tr>\n",
              "            <td>&nbsp;&nbsp;&nbsp;&nbsp;&nbsp;&nbsp;&nbsp;&nbsp;&nbsp;&nbsp;&nbsp;&nbsp;&nbsp;&nbsp;&nbsp;&nbsp;&nbsp;&nbsp;&nbsp;&nbsp;&nbsp;&nbsp;&nbsp;&nbsp;&nbsp;&nbsp;&nbsp;&nbsp;&nbsp;&nbsp;&nbsp;&nbsp;-&gt;  Seq Scan on datedim dd  (cost=0.00..2.00 rows=6 width=8) (actual time=0.004..0.011 rows=6 loops=1)</td>\n",
              "        </tr>\n",
              "        <tr>\n",
              "            <td>&nbsp;&nbsp;&nbsp;&nbsp;&nbsp;&nbsp;&nbsp;&nbsp;&nbsp;&nbsp;&nbsp;&nbsp;&nbsp;&nbsp;&nbsp;&nbsp;&nbsp;&nbsp;&nbsp;&nbsp;&nbsp;&nbsp;&nbsp;&nbsp;&nbsp;&nbsp;&nbsp;&nbsp;&nbsp;&nbsp;&nbsp;&nbsp;&nbsp;&nbsp;&nbsp;&nbsp;&nbsp;&nbsp;Filter: ((month = ANY (&#x27;{7,8}&#x27;::integer[])) AND (year = 2017))</td>\n",
              "        </tr>\n",
              "        <tr>\n",
              "            <td>&nbsp;&nbsp;&nbsp;&nbsp;&nbsp;&nbsp;&nbsp;&nbsp;&nbsp;&nbsp;&nbsp;&nbsp;&nbsp;&nbsp;&nbsp;&nbsp;&nbsp;&nbsp;&nbsp;&nbsp;&nbsp;&nbsp;&nbsp;&nbsp;&nbsp;&nbsp;&nbsp;&nbsp;&nbsp;&nbsp;&nbsp;&nbsp;&nbsp;&nbsp;&nbsp;&nbsp;&nbsp;&nbsp;Rows Removed by Filter: 61</td>\n",
              "        </tr>\n",
              "        <tr>\n",
              "            <td>Planning time: 0.222 ms</td>\n",
              "        </tr>\n",
              "        <tr>\n",
              "            <td>Execution time: 13.268 ms</td>\n",
              "        </tr>\n",
              "    </tbody>\n",
              "</table>"
            ],
            "text/plain": [
              "[('Limit  (cost=1809.81..1809.81 rows=1 width=36) (actual time=13.223..13.226 rows=1 loops=1)',),\n",
              " ('  ->  Sort  (cost=1809.81..1809.82 rows=5 width=36) (actual time=13.222..13.224 rows=1 loops=1)',),\n",
              " ('        Sort Key: (sum(iumf.qty)) DESC',),\n",
              " ('        Sort Method: quicksort  Memory: 25kB',),\n",
              " ('        ->  GroupAggregate  (cost=1809.36..1809.78 rows=5 width=36) (actual time=13.156..13.217 rows=2 loops=1)',),\n",
              " ('              Group Key: dd.month',),\n",
              " ('              ->  Sort  (cost=1809.36..1809.48 rows=48 width=9) (actual time=13.074..13.108 rows=604 loops=1)',),\n",
              " ('                    Sort Key: dd.month',),\n",
              " ('                    Sort Method: quicksort  Memory: 53kB',),\n",
              " ('                    ->  Hash Join  (cost=2.08..1808.02 rows=48 width=9) (actual time=1.312..12.938 rows=604 loops=1)',),\n",
              " ('                          Hash Cond: (iumf.date = dd.id)',),\n",
              " ('                          ->  Seq Scan on ingusedfact iumf  (cost=0.00..1804.44 rows=538 width=9) (actual time=0.010..12.209 rows=4822 loops=1)',),\n",
              " (\"                                Filter: (((ingname)::text = 'ice cream'::text) AND ((detail)::text = 'vanilla'::text))\",),\n",
              " ('                                Rows Removed by Filter: 68274',),\n",
              " ('                          ->  Hash  (cost=2.00..2.00 rows=6 width=8) (actual time=0.014..0.014 rows=6 loops=1)',),\n",
              " ('                                Buckets: 1024  Batches: 1  Memory Usage: 9kB',),\n",
              " ('                                ->  Seq Scan on datedim dd  (cost=0.00..2.00 rows=6 width=8) (actual time=0.004..0.011 rows=6 loops=1)',),\n",
              " (\"                                      Filter: ((month = ANY ('{7,8}'::integer[])) AND (year = 2017))\",),\n",
              " ('                                      Rows Removed by Filter: 61',),\n",
              " ('Planning time: 0.222 ms',),\n",
              " ('Execution time: 13.268 ms',)]"
            ]
          },
          "metadata": {},
          "execution_count": 55
        }
      ]
    },
    {
      "cell_type": "markdown",
      "metadata": {
        "id": "Guzjc1hnJEzn"
      },
      "source": [
        "8. (1 point) Plot the times"
      ]
    },
    {
      "cell_type": "code",
      "metadata": {
        "colab": {
          "base_uri": "https://localhost:8080/",
          "height": 265
        },
        "id": "2GUNCNxRJEzn",
        "outputId": "25206a15-b565-4abe-bbc5-4657e10ee369"
      },
      "source": [
        "tables = ('IngUsedFact', 'IngUsedByDayFact', 'IngUsedByMonthFact')\n",
        "y_pos = np.arange(len(tables))\n",
        "# REPLACE 1, 2, 3 with your values. MAKE SURE THEY ARE IN THE CORRECT ORDER!\n",
        "records = [1, 2, 3]\n",
        "plt.bar(tables, records)\n",
        "plt.ylabel('Time')\n",
        "\n",
        "plt.show()\n"
      ],
      "execution_count": 56,
      "outputs": [
        {
          "output_type": "display_data",
          "data": {
            "image/png": "[encoded data removed]",
            "text/plain": [
              "<Figure size 432x288 with 1 Axes>"
            ]
          },
          "metadata": {
            "needs_background": "light"
          }
        }
      ]
    },
    {
      "cell_type": "markdown",
      "metadata": {
        "id": "G9IR4ajcJEzo"
      },
      "source": [
        "9. (4 points) Write and run the following query: List the detail names and total quantity of the least popular, but non-zero valued 3 toppings on cone products - these are productcodes: `c1, c2, c3,` and `wc`, by total quantity used (in this case 'ounce'). Note that ```no topping``` is considered a topping choice. Don't worry about ties, just return the least popular 3 toppings.\n",
        "\n",
        "Return the `detail` and `qty`.\n"
      ]
    },
    {
      "cell_type": "code",
      "metadata": {
        "id": "w0zk7VqIJEzo"
      },
      "source": [
        "%%sql py_var_toppings <<\n",
        "SELECT 1; -- your code here"
      ],
      "execution_count": null,
      "outputs": []
    },
    {
      "cell_type": "code",
      "metadata": {
        "id": "qOt7xO4yJEzo"
      },
      "source": [
        "# do not modify or delete this cell\n",
        "df_q09 = py_var_toppings.DataFrame() # Save the result of this task for grading purposes\n",
        "df_q09"
      ],
      "execution_count": null,
      "outputs": []
    },
    {
      "cell_type": "markdown",
      "metadata": {
        "id": "cfX1tTDhJEzo"
      },
      "source": [
        "10. (4 points) Which day of the week (a number: 0 = Sunday, 6 = Saturday) has the highest sales of floats? (product code `fl`) by number sold? Return the total and  the day of week index in your query.\n",
        "\n",
        "Return `total` (total number sold) and `dayofweek`."
      ]
    },
    {
      "cell_type": "code",
      "metadata": {
        "id": "QU2Y-ZpdJEzp"
      },
      "source": [
        "%%sql py_var_mostSales <<\n",
        "SELECT 1; -- your code here"
      ],
      "execution_count": null,
      "outputs": []
    },
    {
      "cell_type": "code",
      "metadata": {
        "id": "ppbe1o24JEzp"
      },
      "source": [
        "# do not modify or delete this cell\n",
        "df_q10 = py_var_mostSales.DataFrame() # Save the result of this task for grading purposes\n",
        "df_q10"
      ],
      "execution_count": null,
      "outputs": []
    },
    {
      "cell_type": "markdown",
      "metadata": {
        "id": "ka885DZOJEzp"
      },
      "source": [
        "## Clean up!\n",
        "\n",
        "(5 points) Drop any TABLEs and VIEWs you created, including the fact and dimension tables. DO NOT drop the following tables:\n",
        "\n",
        "* productSold\n",
        "* ticket\n",
        "* salesRecord\n",
        "* truckEvent"
      ]
    },
    {
      "cell_type": "code",
      "metadata": {
        "id": "JQQ3RXytJEzq"
      },
      "source": [
        "%%sql\n",
        "DROP VIEW IF EXISTS maxDOW;\n",
        "DROP VIEW IF EXISTS maxVariance;\n",
        "DROP VIEW IF EXISTS avgQtyPerMin;\n",
        "DROP VIEW IF EXISTS qtyPerMin;\n",
        "DROP VIEW IF EXISTS flavorByMonth;\n",
        "DROP VIEW IF EXISTS flavorByMonthUsingDay;\n"
      ],
      "execution_count": null,
      "outputs": []
    },
    {
      "cell_type": "code",
      "metadata": {
        "id": "HUNGG0XTJEzq"
      },
      "source": [
        ""
      ],
      "execution_count": null,
      "outputs": []
    }
  ]
}