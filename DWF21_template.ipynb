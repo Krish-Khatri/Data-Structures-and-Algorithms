{
  "nbformat": 4,
  "nbformat_minor": 0,
  "metadata": {
    "celltoolbar": "Tags",
    "kernelspec": {
      "display_name": "Python 3",
      "language": "python",
      "name": "python3"
    },
    "language_info": {
      "codemirror_mode": {
        "name": "ipython",
        "version": 3
      },
      "file_extension": ".py",
      "mimetype": "text/x-python",
      "name": "python",
      "nbconvert_exporter": "python",
      "pygments_lexer": "ipython3",
      "version": "3.6.13"
    },
    "colab": {
      "name": "DWF21-template.ipynb",
      "provenance": [],
      "toc_visible": true,
      "include_colab_link": true
    }
  },
  "cells": [
    {
      "cell_type": "markdown",
      "metadata": {
        "id": "view-in-github",
        "colab_type": "text"
      },
      "source": [
        "<a href=\"https://colab.research.google.com/github/Krish-Khatri/Data-Structures-and-Algorithms/blob/main/DWF21_template.ipynb\" target=\"_parent\"><img src=\"https://colab.research.google.com/assets/colab-badge.svg\" alt=\"Open In Colab\"/></a>"
      ]
    },
    {
      "cell_type": "markdown",
      "metadata": {
        "id": "DHnX--3oJEy0"
      },
      "source": [
        "# Data Warehouses Design and Use\n",
        "\n",
        "\n",
        "## Goals\n",
        "The goal of this assignment is to gain experience and practice constructing, populating, and querying  a data warehouse. We will continue to use our ice cream food truck for this exercise. \n",
        "\n",
        "You will be further developing your skills in writing declarative SQL. In addition, you will see the impact of grain size on query time and table size.\n",
        "\n",
        "## Your task\n",
        "Your task is to write SQL code, and fill in some values to a few Python cells, as directed in the assignment. Your notebook must run without error. Be sure to test that you can run all of the cells (except the # LOCALDB cell) from a fresh start, without error.\n",
        "\n",
        "## Grading\n",
        "This assignment is worth 50 points.  The number of points assigned to each component is indicated.\n",
        "\n",
        "## Autograding\n",
        "We will use an autograder for first pass grading of this assignment. In order for our autograder to work, we need to connect your solution to a local database. \n",
        "\n",
        "**DO NOT RUN CELLS THAT START WITH THE COMMENT `# LOCALDB` and do not remove those cells.**\n",
        "\n",
        "For cells that contain your answer, replace the `SELECT 1` SQL code with your solution. Do not change the first line of the cell or remove the following cell.\n",
        "\n",
        "We are using an autograder for the first pass grading. For the autograder to work, you need to complete your work in the appropriate cells and name and order the attributes in your results as directed. \n",
        "\n",
        "**It's critical that you use the attribute names and sort order as directed. If attribute name(s) are not specfied, use the name in the source table.**\n",
        "\n",
        "## Academic Honesty\n",
        "The following level of collaboration is allowed on this assignment: \n",
        "\n",
        "You may discuss the assignment with other class members at a high level. What is not allowed is direct examination of anyone else's SQL code (on a computer, email, whiteboard, etc.) or allowing anyone else to see your SQL  code. You may also use (and in fact are encouraged to use) the PostgreSQL reference manual \n",
        "\n",
        "https://www.postgresql.org/docs/10/index.html\n",
        "\n",
        "You may use the search engine of your choice to look up the syntax for PostgreSQL commands, but may not use it to find answers. Remember to cite your sources!\n",
        "\n",
        "\n",
        "## Useful Information\n",
        "The following PostgreSQL functions may be helpful.\n",
        "\n",
        "EXTRACT EXTRACT(<unit> FROM <attribute>). Can be used to extract hour, month, year, day of week, etc. from dates\n",
        "\n",
        ":: Casts the attribute to the left of the :: to the type specified on the right\n",
        "    \n",
        "## What to submit\n",
        "\n",
        "Submit this jupyter notebook containing your table definitions, queries, code, and results. Be sure to provide code to delete any VIEWs and TABLEs other that the start 4 tables.\n",
        "\n"
      ]
    },
    {
      "cell_type": "markdown",
      "metadata": {
        "id": "7dWf4uLCJEzC"
      },
      "source": [
        "## Background\n",
        "The system we have designed for our ice cream food truck is great for recording orders and sales. However, due to its focus on recipes and tickets, queries to determine strategy (e.g. most popular ingredients, etc.) can be complex. Here, you will construct and populate a Star Schema for ingredient.\n",
        "\n"
      ]
    },
    {
      "cell_type": "markdown",
      "metadata": {
        "id": "YBAAn6h1JEzE"
      },
      "source": [
        "## Data \n",
        "\n",
        "This section describes the tables that provide data for this assignment.\n",
        "\n",
        "\n",
        "We leverage the following base tables in this assignment:\n",
        "\n",
        "* truckEvent: Details of the events where the food truck sold ice cream.  Attributes include:\n",
        "\n",
        "    * EventId: Primary key. Unique id of each event\n",
        "    * EventName: Text name for the event\n",
        "    * EventStart: Start time of the event\n",
        "    * EventPlannedEnd: Time the event was expected to end\n",
        "    * EventActualEnd: Time the event actually ended\n",
        "    * EventStatus: Status indicating if the event is planned, in progress,  completed, or cancelled\n",
        "    * TotalDollarSales: Sum of the selling price of all of the products sold during the event\n",
        "    * TotalNumProducts: Number of products sold during the event \n",
        "    * TotalNumTickets: Number of tickets created during the event \n",
        "\n",
        "* ticket: Details of each set of products purchased together during an event\n",
        "\n",
        "    * TicketId: Unique id of each ticket\n",
        "    * EventId: Id of event where the ticket was created\n",
        "    * TicketTime: Time when the ticket was created\n",
        "    * NumProducts; Number of products purchased together on this ticket\n",
        "    * TotalPrice: Sum of selling price of all products purchased together on this ticket\n",
        "\n",
        "* productSold:  Details about each product sold during an event\n",
        "\n",
        "    * productSoldId: Unique id of each product sold\n",
        "    * ProductCode: Code identifying the product that was sold\n",
        "    * TicketId: Id of the ticket in which this product was sold\n",
        "    * Price: Selling price of the product\n",
        "\n",
        "* saleDetail: Detail about the ingredient(s) used in each product sold\n",
        "    * SaleDetailId: Unique id of each detail\n",
        "    * ProductSoldId: The id of the productSold which this saleDetail is part of\n",
        "    * IngName: Name of the ingredient\n",
        "    * Qty: Quantity of the ingredient\n",
        "    * Unit: Unit of measure of the ingredient\n",
        "    * Detail: Detail / choice made for the ingredient (e.g. **vanilla** or **tall**)\n",
        "\n"
      ]
    },
    {
      "cell_type": "code",
      "metadata": {
        "tags": [
          "localdb"
        ],
        "id": "6Vqu9RFaJEzG"
      },
      "source": [
        "# LOCALDB\n",
        "# connect to grader database\n",
        "import psycopg2\n",
        "from configparser import ConfigParser\n",
        "\n",
        "def config(filename='.pg_service.conf', section='postgresql'):\n",
        "    # create a parser\n",
        "    parser = ConfigParser()\n",
        "    # read config file\n",
        "    parser.read(filename)\n",
        "\n",
        "    # get section, default to postgresql\n",
        "    db = {}\n",
        "    if parser.has_section(section):\n",
        "        params = parser.items(section)\n",
        "        for param in params:\n",
        "            db[param[0]] = param[1]\n",
        "    else:\n",
        "        raise Exception('Section {0} not found in the {1} file'.format(section, filename))\n",
        "\n",
        "    return db\n",
        "\n",
        "params = config()\n",
        "# build the connection string\n",
        "def make_conn_str(params):\n",
        "\n",
        "    return f\"postgresql+psycopg2://{params['user']}:{params['password']}@{params['host']}:{params['port']}/{params['dbname']}\"\n",
        "        \n",
        "# connect to the database\n",
        "conn_str = make_conn_str(params)\n",
        "%load_ext sql\n",
        "%sql $conn_str \n",
        "%config SqlMagic.displaylimit=100"
      ],
      "execution_count": null,
      "outputs": []
    },
    {
      "cell_type": "markdown",
      "metadata": {
        "id": "fr3fP7n5JEzJ"
      },
      "source": [
        "\n",
        "## Initialization\n",
        "\n",
        "The next cell needs to be run each time you start up Google Colab."
      ]
    },
    {
      "cell_type": "code",
      "metadata": {
        "tags": [
          "colab"
        ],
        "id": "4LQpyp5BJEzK"
      },
      "source": [
        "# colab install\n",
        "!pip install --upgrade pip\n",
        "!pip install SQLAlchemy==1.3.23\n",
        "!pip install psycopg2-binary\n",
        "!apt install postgresql postgresql-contrib &>log\n",
        "!service postgresql start\n",
        "!sudo -u postgres psql -c \"CREATE USER root WITH SUPERUSER\"\n",
        "# set connection\n",
        "%load_ext sql\n",
        "%config SqlMagic.autolimit=100\n",
        "# Limit queries to 100 results. Increase this value if needed, but recognize that your notebook will increase in size as well. %config SqlMagic.displaylimit=100\n",
        "%sql postgresql+psycopg2://@/postgres\n",
        "!sudo -u postgres createdb ricedb"
      ],
      "execution_count": null,
      "outputs": []
    },
    {
      "cell_type": "markdown",
      "metadata": {
        "id": "tM29XkjgJEzL"
      },
      "source": [
        "\n",
        "The following data files are provided for this assignment:\n",
        "\n",
        "* productsold.csv\n",
        "* saledetail.csv\n",
        "* ticket.csv\n",
        "* truckevent.csv\n",
        "\n",
        "Create these tables:"
      ]
    },
    {
      "cell_type": "code",
      "metadata": {
        "tags": [
          "colab"
        ],
        "id": "1BaTCvTHJEzN"
      },
      "source": [
        "%%sql\n",
        "DROP TABLE IF EXISTS productsold CASCADE;\n",
        "CREATE TABLE IF NOT EXISTS productsold\n",
        "(\n",
        "    productsoldid integer NOT NULL ,\n",
        "    productcode CHAR(3) NOT NULL,\n",
        "    ticketid integer NOT NULL,\n",
        "    price numeric(10,2) NOT NULL,\n",
        "    PRIMARY KEY (productsoldid)\n",
        ");\n",
        "\n",
        "DROP TABLE IF EXISTS salerecord CASCADE;\n",
        "CREATE TABLE IF NOT EXISTS salerecord\n",
        "(\n",
        "    salerecordid integer NOT NULL,\n",
        "    productsoldid integer,\n",
        "    ingname character varying(50)  NOT NULL,\n",
        "    qty numeric(10,2) NOT NULL,\n",
        "    unit character varying(20)  NOT NULL,\n",
        "    detail character varying(50),\n",
        "    PRIMARY KEY (salerecordid)\n",
        ");\n",
        "\n",
        "DROP TABLE IF EXISTS ticket CASCADE;\n",
        "CREATE TABLE IF NOT EXISTS ticket\n",
        "(\n",
        "    ticketid integer NOT NULL,\n",
        "    eventid integer NOT NULL,\n",
        "    tickettime timestamp without time zone NOT NULL,\n",
        "    numproducts integer NOT NULL DEFAULT 0,\n",
        "    totalprice numeric(5,2) NOT NULL DEFAULT 0,\n",
        "    PRIMARY KEY (ticketid)\n",
        ");\n",
        "\n",
        "DROP TABLE IF EXISTS truckevent CASCADE;\n",
        "CREATE TABLE IF NOT EXISTS truckevent\n",
        "(\n",
        "    eventid integer NOT NULL,\n",
        "    eventname character varying(100)  NOT NULL,\n",
        "    eventstart timestamp without time zone,\n",
        "    eventplannedend timestamp without time zone,\n",
        "    eventactualend timestamp without time zone,\n",
        "    eventstatus character varying(30)  NOT NULL,\n",
        "    menuname character varying(30),\n",
        "    totaldollarsales numeric(10,2),\n",
        "    totalnumproducts integer,\n",
        "    totalnumtickets integer,\n",
        "    PRIMARY KEY (eventid)\n",
        ");"
      ],
      "execution_count": null,
      "outputs": []
    },
    {
      "cell_type": "markdown",
      "metadata": {
        "id": "PGidIm6KJEzQ"
      },
      "source": [
        "## Load the data"
      ]
    },
    {
      "cell_type": "code",
      "metadata": {
        "tags": [
          "colab"
        ],
        "id": "jHBIsH1GJEzS"
      },
      "source": [
        "%%sql\n",
        "COPY productsold(productsoldid,productcode,ticketid,price) FROM '/content/productsold.csv' CSV HEADER;\n",
        "COPY ticket FROM  '/content/ticket.csv'  CSV  HEADER; \n",
        "COPY salerecord FROM  '/content/salerecord.csv'  CSV HEADER; \n",
        "COPY truckevent FROM  '/content/truckevent.csv'  CSV HEADER; "
      ],
      "execution_count": null,
      "outputs": []
    },
    {
      "cell_type": "code",
      "metadata": {
        "tags": [
          "colab"
        ],
        "id": "-AWQwmfqJEzT"
      },
      "source": [
        "%%sql\n",
        "-- there should be 14322 records \n",
        "SELECT COUNT(1) \n",
        "FROM productsold;"
      ],
      "execution_count": null,
      "outputs": []
    },
    {
      "cell_type": "code",
      "metadata": {
        "tags": [
          "colab"
        ],
        "id": "DfPxFeC5JEzT"
      },
      "source": [
        "%%sql\n",
        "-- there should be 3398\n",
        "SELECT COUNT(1) \n",
        "FROM ticket;"
      ],
      "execution_count": null,
      "outputs": []
    },
    {
      "cell_type": "code",
      "metadata": {
        "tags": [
          "colab"
        ],
        "id": "RyE1_QXfJEzV"
      },
      "source": [
        "%%sql \n",
        "-- 73096\n",
        "SELECT COUNT(1) \n",
        "FROM salerecord;"
      ],
      "execution_count": null,
      "outputs": []
    },
    {
      "cell_type": "code",
      "metadata": {
        "tags": [
          "colab"
        ],
        "id": "JBn2wdqEJEzW"
      },
      "source": [
        "%%sql \n",
        "-- 62\n",
        "SELECT COUNT(1) \n",
        "FROM truckevent;"
      ],
      "execution_count": null,
      "outputs": []
    },
    {
      "cell_type": "markdown",
      "metadata": {
        "id": "31hbARduJEzW"
      },
      "source": [
        "## Data Warehouse Structure\n",
        "\n",
        "In order to write the queries specified below, you will need to construct a star schema for **ingredient used** (salerecord).\n",
        "\n",
        "While many star schema are possible, we constain our data warehouse to a fixed set of fact and dimension tables, as follows.\n",
        "\n",
        "Define the following fact and dimension tables. **Use the exact table names provided**. What you call your attributes within each table is up to you. What data you need in each table should be sufficient to answer all of the questions asked.\n",
        "\n",
        "Assign surrogate primary keys and appropriate foreign keys for each table.  When creating your tables, keep in mind that data warehouses trade-off storage space for computation. That is, it is better to precompute facts you might need and store the result in a fact table versus computing them on the fly. Be sure to use good data warehouse design: Don't snowflake your dimensions, denormalize where appropriate, etc. \n",
        "\n",
        "1. Create (1 point each) and populate from the source data (1 point each) the following tables. \n",
        "\n",
        "    1. DateDim: This dimension table should contain a unique, system assigned numeric identifier, as well as attributes that separate out the day, day of the week, month, and year.\n",
        "\n",
        "    1. EventDim: This dimension table is a dimension table based on the truckevent table.  Assign a unique, system identifier as the primary key.\n",
        "\n",
        "    1. TicketDim: This dimension table  a dimension table based on the ticket table.  Assign a unique, system identifier as the primary key.\n",
        "\n",
        "    1. ProductSoldDim:  A dimension table based on the productsold table. Assign a unique, system identifier as the primary key.\n",
        "\n",
        "\n",
        "1. Create (5 points) and populate from the source data (5 points) the following table.\n",
        "\n",
        "    1. IngUsedFact:  A fact table based on the saleRecord table. The attributes should include foreign key references to the aforementioned dimension tables as well as any additional attributes needed to construct the additional fact tables specified and answer the queries specified below.  You should also include a degenerate dimension that should be populated with the saleRecord id that this IngUsedFact record is based on.\n",
        "\n",
        "\n",
        "1. Create (1 point each) and populate from the source data (1 point each) the following tables. \n",
        "\n",
        "    1. IngUsedByDayFact: This fact table should aggregate the contents of IngUsedFact by the date the ingredient was used. The table should have appropriate primary and foreign keys.\n",
        "\n",
        "    1. IngUsedByMonthFact: This table should aggregate the IngUsedFact table by month \\& year and should have appropriate primary and foreign keys.\n",
        "\n",
        "\n",
        "Keep in mind that when you populate your the `IngUsedFact` table, you need to reference the appropriate records in the dimension tables."
      ]
    },
    {
      "cell_type": "code",
      "metadata": {
        "id": "OhaUJRkXJEzX"
      },
      "source": [
        "%%sql\n",
        "SELECT 1;\n",
        "-- Create the dimension and fact tables\n"
      ],
      "execution_count": null,
      "outputs": []
    },
    {
      "cell_type": "code",
      "metadata": {
        "id": "fHWep3eiJEzY"
      },
      "source": [
        "%%sql\n",
        "-- populate dimension tables\n",
        "SELECT 1;"
      ],
      "execution_count": null,
      "outputs": []
    },
    {
      "cell_type": "code",
      "metadata": {
        "id": "mYd_DXDCJEzZ"
      },
      "source": [
        "%%sql\n",
        "-- populate fact tables\n",
        "SELECT 1;"
      ],
      "execution_count": null,
      "outputs": []
    },
    {
      "cell_type": "markdown",
      "metadata": {
        "id": "bTh8Id25JEzZ"
      },
      "source": [
        "## Queries\n",
        "\n",
        "Your data warehouse should be able to answer the following questions. The star schema structure described above should enable you to answer these questions.\n",
        "\n"
      ]
    },
    {
      "cell_type": "markdown",
      "metadata": {
        "id": "SlQjOopXJEza"
      },
      "source": [
        "1. (3 points) How big are your `IngUsedFact`, `IngUsedFactByDay`, and `IngUsedFactByMonth` tables? Provide the row count.\n",
        "\n",
        " `IngUsedFact`"
      ]
    },
    {
      "cell_type": "code",
      "metadata": {
        "id": "D64Hc4nKJEza"
      },
      "source": [
        "%%sql py_var_IngUsedFact_num <<\n",
        "SElECT COUNT(1) FROM IngUsedFact;\n",
        "--IngUsedFact num records\n"
      ],
      "execution_count": null,
      "outputs": []
    },
    {
      "cell_type": "code",
      "metadata": {
        "id": "PkCrUGVKJEzb"
      },
      "source": [
        "# do not modify or delete this cell\n",
        "df_q01a = py_var_IngUsedFact_num.DataFrame() # Save the result of this task for grading purposes\n",
        "df_q01a"
      ],
      "execution_count": null,
      "outputs": []
    },
    {
      "cell_type": "markdown",
      "metadata": {
        "id": "qrlRsRRpJEzc"
      },
      "source": [
        "`IngUsedFactByDay`"
      ]
    },
    {
      "cell_type": "code",
      "metadata": {
        "id": "C6d68tixJEzc"
      },
      "source": [
        "%%sql py_var_IngUsedByDayFact_num <<\n",
        "SElECT COUNT(1) FROM IngUsedByDayFact;\n",
        "--IngUsedByDayFact num records\n"
      ],
      "execution_count": null,
      "outputs": []
    },
    {
      "cell_type": "code",
      "metadata": {
        "id": "X8ZAd5TfJEzd"
      },
      "source": [
        "# do not modify or delete this cell\n",
        "df_q01b = py_var_IngUsedByDayFact_num.DataFrame() # Save the result of this task for grading purposes\n",
        "df_q01b"
      ],
      "execution_count": null,
      "outputs": []
    },
    {
      "cell_type": "markdown",
      "metadata": {
        "id": "Shk3Ms0XJEzd"
      },
      "source": [
        "`IngUsedFactByMonth` "
      ]
    },
    {
      "cell_type": "code",
      "metadata": {
        "id": "byuAxltTJEzd"
      },
      "source": [
        "%%sql py_var_IngUsedByMonthFact_num <<\n",
        "SELECT COUNT(1) FROM IngUsedByMonthFact;\n",
        "--IngUsedByMonthFact num records\n"
      ],
      "execution_count": null,
      "outputs": []
    },
    {
      "cell_type": "code",
      "metadata": {
        "id": "hE1C6jYYJEzd"
      },
      "source": [
        "# do not modify or delete this cell\n",
        "df_q01c = py_var_IngUsedByMonthFact_num.DataFrame() # Save the result of this task for grading purposes\n",
        "df_q01c"
      ],
      "execution_count": null,
      "outputs": []
    },
    {
      "cell_type": "markdown",
      "metadata": {
        "id": "hvFKF_v2JEze"
      },
      "source": [
        "2 (0 points) Plot the number of records"
      ]
    },
    {
      "cell_type": "code",
      "metadata": {
        "id": "cbsidJqoJEze"
      },
      "source": [
        "import matplotlib.pyplot as plt\n",
        "import numpy as np\n",
        "tables = ('IngUsedFact', 'IngUsedByDayFact', 'IngUsedByMonthFact')\n",
        "y_pos = np.arange(len(tables))\n",
        "records = [py_var_IngUsedFact_num[0][0], py_var_IngUsedByDayFact_num[0][0], py_var_IngUsedByMonthFact_num[0][0]]\n",
        "plt.bar(tables, records)\n",
        "plt.ylabel('Records')\n",
        "\n",
        "plt.show()"
      ],
      "execution_count": null,
      "outputs": []
    },
    {
      "cell_type": "markdown",
      "metadata": {
        "id": "KAZ865FvJEzf"
      },
      "source": [
        "3. (1 point) Describe the shape of the plot as it relates to the number of records. Why does the data look this way?"
      ]
    },
    {
      "cell_type": "markdown",
      "metadata": {
        "id": "sY5IK6-VJEzg"
      },
      "source": [
        "-- your answer here"
      ]
    },
    {
      "cell_type": "markdown",
      "metadata": {
        "id": "hAHlicDzJEzh"
      },
      "source": [
        "4. (4 points) Compute the minimum, maximum, and average price per product per ticket for events that started on or after 6 PM. Round each value to 2 decimal places.\n",
        "\n",
        "Return `minPrice`, `maxPrice`, `avgPrice`"
      ]
    },
    {
      "cell_type": "code",
      "metadata": {
        "id": "SEbkJw9IJEzh"
      },
      "source": [
        "%%sql py_var_productPrice <<\n",
        "SELECT 1 -- your code here"
      ],
      "execution_count": null,
      "outputs": []
    },
    {
      "cell_type": "code",
      "metadata": {
        "id": "-Neth1gqJEzh"
      },
      "source": [
        "# do not modify or delete this cell\n",
        "df_q04 = py_var_productPrice.DataFrame() # Save the result of this task for grading purposes\n",
        "df_q04"
      ],
      "execution_count": null,
      "outputs": []
    },
    {
      "cell_type": "markdown",
      "metadata": {
        "id": "B5fkNbQOJEzi"
      },
      "source": [
        "5. (4 points)  When measured by ounces, did the truck sell more vanilla ice cream in July 2017 or August  2017? Write a **single query** that gives you the answer to this question. You may use views.  Return the number of the month. Your answer should be 6 or 7. Use the `IngUsedByMonthFact` table and time your answer. \n",
        "\n",
        "Name the attribute `monthSold`.\n",
        "\n",
        "You can get the time by using ```EXPLAIN ANALYZE``` in the query cell\n",
        "\n",
        "Report the run time. Provide your query and results. You may run the query twice, once to get the timing and once to get the results.\n"
      ]
    },
    {
      "cell_type": "code",
      "metadata": {
        "id": "Dhydd_8ZJEzi"
      },
      "source": [
        "%%sql py_var_moreSalesMonthFact <<\n",
        "SELECT 1; -- your code here"
      ],
      "execution_count": null,
      "outputs": []
    },
    {
      "cell_type": "code",
      "metadata": {
        "id": "43ieRUOsJEzj"
      },
      "source": [
        "# do not modify or delete this cell\n",
        "df_q05 = py_var_moreSalesMonthFact.DataFrame() # Save the result of this task for grading purposes\n",
        "df_q05"
      ],
      "execution_count": null,
      "outputs": []
    },
    {
      "cell_type": "markdown",
      "metadata": {
        "id": "0wIJTYTYJEzj"
      },
      "source": [
        "Time your query"
      ]
    },
    {
      "cell_type": "code",
      "metadata": {
        "id": "QuLcxQ_5JEzj"
      },
      "source": [
        "%%sql\n",
        "EXPLAIN ANALYZE\n",
        "SELECT 1; -- your code here"
      ],
      "execution_count": null,
      "outputs": []
    },
    {
      "cell_type": "markdown",
      "metadata": {
        "id": "JRnDbzKhJEzk"
      },
      "source": [
        "6. (1 point) Now, write and run an analogous query on the `IngUsedByDayFact` table. Report the run time."
      ]
    },
    {
      "cell_type": "code",
      "metadata": {
        "id": "vA0k9gn_JEzk"
      },
      "source": [
        "%%sql py_var_moreSalesDayFact <<\n",
        "SELECT 1; -- your code here"
      ],
      "execution_count": null,
      "outputs": []
    },
    {
      "cell_type": "code",
      "metadata": {
        "id": "aG7Ra6dZJEzk"
      },
      "source": [
        "# do not modify or delete this cell\n",
        "df_q06 = py_var_moreSalesDayFact.DataFrame() # Save the result of this task for grading purposes\n",
        "df_q06"
      ],
      "execution_count": null,
      "outputs": []
    },
    {
      "cell_type": "markdown",
      "metadata": {
        "id": "q6oCIzA4JEzl"
      },
      "source": [
        "Time your query"
      ]
    },
    {
      "cell_type": "code",
      "metadata": {
        "id": "fwU_Ah4DJEzl"
      },
      "source": [
        "%%sql\n",
        "EXPLAIN ANALYZE\n",
        "SELECT 1 -- your code here;"
      ],
      "execution_count": null,
      "outputs": []
    },
    {
      "cell_type": "markdown",
      "metadata": {
        "id": "lxe2NOCgJEzl"
      },
      "source": [
        "7. (1 point) Now, write and run an analogous query on the `IngUsedFact` table. Report the run time."
      ]
    },
    {
      "cell_type": "code",
      "metadata": {
        "id": "gXIlEZkjJEzm"
      },
      "source": [
        "%%sql py_var_moreSalesFact <<\n",
        "SELECT 1; -- your code here"
      ],
      "execution_count": null,
      "outputs": []
    },
    {
      "cell_type": "code",
      "metadata": {
        "id": "j4PS043YJEzm"
      },
      "source": [
        "# do not modify or delete this cell\n",
        "df_q07 = py_var_moreSalesFact.DataFrame() # Save the result of this task for grading purposes\n",
        "df_q07"
      ],
      "execution_count": null,
      "outputs": []
    },
    {
      "cell_type": "markdown",
      "metadata": {
        "id": "yMEPaaIbJEzm"
      },
      "source": [
        "Time your query"
      ]
    },
    {
      "cell_type": "code",
      "metadata": {
        "id": "4o_caoA5JEzm"
      },
      "source": [
        "%%sql\n",
        "EXPLAIN ANALYZE\n",
        "SELECT  1;"
      ],
      "execution_count": null,
      "outputs": []
    },
    {
      "cell_type": "code",
      "metadata": {
        "id": "77lvl9FqJEzn"
      },
      "source": [
        "%%sql\n",
        "EXPLAIN ANALYZE\n",
        "\n",
        "SELECT monthSold \n",
        "FROM flavorByMonth\n",
        "WHERE totalqty = (\n",
        "    SELECT MAX(totalqty)\n",
        "    FROM flavorByMonth);"
      ],
      "execution_count": null,
      "outputs": []
    },
    {
      "cell_type": "markdown",
      "metadata": {
        "id": "Guzjc1hnJEzn"
      },
      "source": [
        "8. (1 point) Plot the times"
      ]
    },
    {
      "cell_type": "code",
      "metadata": {
        "id": "2GUNCNxRJEzn"
      },
      "source": [
        "tables = ('IngUsedFact', 'IngUsedByDayFact', 'IngUsedByMonthFact')\n",
        "y_pos = np.arange(len(tables))\n",
        "# REPLACE 1, 2, 3 with your values. MAKE SURE THEY ARE IN THE CORRECT ORDER!\n",
        "records = [1, 2, 3]\n",
        "plt.bar(tables, records)\n",
        "plt.ylabel('Time')\n",
        "\n",
        "plt.show()\n"
      ],
      "execution_count": null,
      "outputs": []
    },
    {
      "cell_type": "markdown",
      "metadata": {
        "id": "G9IR4ajcJEzo"
      },
      "source": [
        "9. (4 points) Write and run the following query: List the detail names and total quantity of the least popular, but non-zero valued 3 toppings on cone products - these are productcodes: `c1, c2, c3,` and `wc`, by total quantity used (in this case 'ounce'). Note that ```no topping``` is considered a topping choice. Don't worry about ties, just return the least popular 3 toppings.\n",
        "\n",
        "Return the `detail` and `qty`.\n"
      ]
    },
    {
      "cell_type": "code",
      "metadata": {
        "id": "w0zk7VqIJEzo"
      },
      "source": [
        "%%sql py_var_toppings <<\n",
        "SELECT 1; -- your code here"
      ],
      "execution_count": null,
      "outputs": []
    },
    {
      "cell_type": "code",
      "metadata": {
        "id": "qOt7xO4yJEzo"
      },
      "source": [
        "# do not modify or delete this cell\n",
        "df_q09 = py_var_toppings.DataFrame() # Save the result of this task for grading purposes\n",
        "df_q09"
      ],
      "execution_count": null,
      "outputs": []
    },
    {
      "cell_type": "markdown",
      "metadata": {
        "id": "cfX1tTDhJEzo"
      },
      "source": [
        "10. (4 points) Which day of the week (a number: 0 = Sunday, 6 = Saturday) has the highest sales of floats? (product code `fl`) by number sold? Return the total and  the day of week index in your query.\n",
        "\n",
        "Return `total` (total number sold) and `dayofweek`."
      ]
    },
    {
      "cell_type": "code",
      "metadata": {
        "id": "QU2Y-ZpdJEzp"
      },
      "source": [
        "%%sql py_var_mostSales <<\n",
        "SELECT 1; -- your code here"
      ],
      "execution_count": null,
      "outputs": []
    },
    {
      "cell_type": "code",
      "metadata": {
        "id": "ppbe1o24JEzp"
      },
      "source": [
        "# do not modify or delete this cell\n",
        "df_q10 = py_var_mostSales.DataFrame() # Save the result of this task for grading purposes\n",
        "df_q10"
      ],
      "execution_count": null,
      "outputs": []
    },
    {
      "cell_type": "markdown",
      "metadata": {
        "id": "ka885DZOJEzp"
      },
      "source": [
        "## Clean up!\n",
        "\n",
        "(5 points) Drop any TABLEs and VIEWs you created, including the fact and dimension tables. DO NOT drop the following tables:\n",
        "\n",
        "* productSold\n",
        "* ticket\n",
        "* salesRecord\n",
        "* truckEvent"
      ]
    },
    {
      "cell_type": "code",
      "metadata": {
        "id": "JQQ3RXytJEzq"
      },
      "source": [
        "%%sql\n",
        "DROP VIEW IF EXISTS maxDOW;\n",
        "DROP VIEW IF EXISTS maxVariance;\n",
        "DROP VIEW IF EXISTS avgQtyPerMin;\n",
        "DROP VIEW IF EXISTS qtyPerMin;\n",
        "DROP VIEW IF EXISTS flavorByMonth;\n",
        "DROP VIEW IF EXISTS flavorByMonthUsingDay;\n"
      ],
      "execution_count": null,
      "outputs": []
    },
    {
      "cell_type": "code",
      "metadata": {
        "id": "HUNGG0XTJEzq"
      },
      "source": [
        ""
      ],
      "execution_count": null,
      "outputs": []
    }
  ]
}